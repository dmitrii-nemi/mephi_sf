{
 "cells": [
  {
   "cell_type": "code",
   "execution_count": 5,
   "id": "08f3138c-6cc6-49af-9164-4d94252d9fdf",
   "metadata": {},
   "outputs": [],
   "source": [
    "import pandas as pd"
   ]
  },
  {
   "cell_type": "code",
   "execution_count": 10,
   "id": "8134e78a-b6d4-44b9-8ca8-e6a38a51421f",
   "metadata": {},
   "outputs": [],
   "source": [
    "lectures_data = pd.read_csv('/Users/GoncharovDS/MyPythonProjects/mephi/lectures.csv')\n",
    "questions_data = pd.read_csv('/Users/GoncharovDS/MyPythonProjects/mephi/questions.csv')\n",
    "train_data = pd.read_csv('/Users/GoncharovDS/MyPythonProjects/mephi/train.csv')"
   ]
  },
  {
   "cell_type": "code",
   "execution_count": 14,
   "id": "54e81910-7b78-4edb-b249-559517fa7d1c",
   "metadata": {},
   "outputs": [
    {
     "name": "stdout",
     "output_type": "stream",
     "text": [
      "<class 'pandas.core.frame.DataFrame'>\n",
      "RangeIndex: 418 entries, 0 to 417\n",
      "Data columns (total 4 columns):\n",
      " #   Column      Non-Null Count  Dtype \n",
      "---  ------      --------------  ----- \n",
      " 0   lecture_id  418 non-null    int64 \n",
      " 1   tag         418 non-null    int64 \n",
      " 2   part        418 non-null    int64 \n",
      " 3   type_of     418 non-null    object\n",
      "dtypes: int64(3), object(1)\n",
      "memory usage: 13.2+ KB\n"
     ]
    }
   ],
   "source": [
    "lectures_data.info()"
   ]
  },
  {
   "cell_type": "code",
   "execution_count": 16,
   "id": "cceb2079-65a5-4e6a-9c1e-9242489f418c",
   "metadata": {},
   "outputs": [
    {
     "name": "stdout",
     "output_type": "stream",
     "text": [
      "<class 'pandas.core.frame.DataFrame'>\n",
      "RangeIndex: 13523 entries, 0 to 13522\n",
      "Data columns (total 5 columns):\n",
      " #   Column          Non-Null Count  Dtype \n",
      "---  ------          --------------  ----- \n",
      " 0   question_id     13523 non-null  int64 \n",
      " 1   bundle_id       13523 non-null  int64 \n",
      " 2   correct_answer  13523 non-null  int64 \n",
      " 3   part            13523 non-null  int64 \n",
      " 4   tags            13522 non-null  object\n",
      "dtypes: int64(4), object(1)\n",
      "memory usage: 528.4+ KB\n"
     ]
    }
   ],
   "source": [
    "questions_data.info()"
   ]
  },
  {
   "cell_type": "code",
   "execution_count": 18,
   "id": "0a294321-41ed-44d4-8e8d-25b45f12a1fb",
   "metadata": {},
   "outputs": [
    {
     "name": "stdout",
     "output_type": "stream",
     "text": [
      "<class 'pandas.core.frame.DataFrame'>\n",
      "RangeIndex: 101230332 entries, 0 to 101230331\n",
      "Data columns (total 10 columns):\n",
      " #   Column                          Non-Null Count      Dtype  \n",
      "---  ------                          --------------      -----  \n",
      " 0   row_id                          101230332 non-null  int64  \n",
      " 1   timestamp                       101230332 non-null  int64  \n",
      " 2   user_id                         101230332 non-null  int64  \n",
      " 3   content_id                      101230332 non-null  int64  \n",
      " 4   content_type_id                 101230332 non-null  int64  \n",
      " 5   task_container_id               101230332 non-null  int64  \n",
      " 6   user_answer                     101230332 non-null  int64  \n",
      " 7   answered_correctly              101230332 non-null  int64  \n",
      " 8   prior_question_elapsed_time     98878794 non-null   float64\n",
      " 9   prior_question_had_explanation  100837826 non-null  object \n",
      "dtypes: float64(1), int64(8), object(1)\n",
      "memory usage: 7.5+ GB\n"
     ]
    }
   ],
   "source": [
    "train_data.info(show_counts=True)"
   ]
  },
  {
   "cell_type": "code",
   "execution_count": 56,
   "id": "21f0247d-4a15-4adb-8912-5201e0783727",
   "metadata": {},
   "outputs": [
    {
     "data": {
      "text/plain": [
       "row_id                                  0\n",
       "timestamp                               0\n",
       "user_id                                 0\n",
       "content_id                              0\n",
       "content_type_id                         0\n",
       "task_container_id                       0\n",
       "user_answer                             0\n",
       "answered_correctly                      0\n",
       "prior_question_elapsed_time       2351538\n",
       "prior_question_had_explanation     392506\n",
       "dtype: int64"
      ]
     },
     "execution_count": 56,
     "metadata": {},
     "output_type": "execute_result"
    }
   ],
   "source": [
    "# находим пропуски с train_data\n",
    "train_data.isnull().sum()"
   ]
  },
  {
   "cell_type": "code",
   "execution_count": 50,
   "id": "985150cc-8cbd-481c-b706-8e42978cde61",
   "metadata": {},
   "outputs": [
    {
     "data": {
      "text/plain": [
       "(418, 4)"
      ]
     },
     "execution_count": 50,
     "metadata": {},
     "output_type": "execute_result"
    }
   ],
   "source": [
    "# используем shape для получения размерности дата фреймов\n",
    "# количестве строк и столбцов\n",
    "lectures_data.shape"
   ]
  },
  {
   "cell_type": "code",
   "execution_count": 52,
   "id": "a5748aac-e944-4953-b575-aca75bc1d11e",
   "metadata": {},
   "outputs": [
    {
     "data": {
      "text/plain": [
       "(13523, 5)"
      ]
     },
     "execution_count": 52,
     "metadata": {},
     "output_type": "execute_result"
    }
   ],
   "source": [
    "questions_data.shape"
   ]
  },
  {
   "cell_type": "code",
   "execution_count": 54,
   "id": "fe36d60c-8dee-4bde-92b0-ab4e3a772ce7",
   "metadata": {},
   "outputs": [
    {
     "data": {
      "text/plain": [
       "(101230332, 10)"
      ]
     },
     "execution_count": 54,
     "metadata": {},
     "output_type": "execute_result"
    }
   ],
   "source": [
    "train_data.shape"
   ]
  },
  {
   "cell_type": "code",
   "execution_count": 34,
   "id": "31b6a8e8-db85-4d32-91f7-0ea5dff0db8c",
   "metadata": {},
   "outputs": [
    {
     "data": {
      "text/html": [
       "<div>\n",
       "<style scoped>\n",
       "    .dataframe tbody tr th:only-of-type {\n",
       "        vertical-align: middle;\n",
       "    }\n",
       "\n",
       "    .dataframe tbody tr th {\n",
       "        vertical-align: top;\n",
       "    }\n",
       "\n",
       "    .dataframe thead th {\n",
       "        text-align: right;\n",
       "    }\n",
       "</style>\n",
       "<table border=\"1\" class=\"dataframe\">\n",
       "  <thead>\n",
       "    <tr style=\"text-align: right;\">\n",
       "      <th></th>\n",
       "      <th>lecture_id</th>\n",
       "      <th>tag</th>\n",
       "      <th>part</th>\n",
       "      <th>type_of</th>\n",
       "    </tr>\n",
       "  </thead>\n",
       "  <tbody>\n",
       "    <tr>\n",
       "      <th>0</th>\n",
       "      <td>89</td>\n",
       "      <td>159</td>\n",
       "      <td>5</td>\n",
       "      <td>concept</td>\n",
       "    </tr>\n",
       "    <tr>\n",
       "      <th>1</th>\n",
       "      <td>100</td>\n",
       "      <td>70</td>\n",
       "      <td>1</td>\n",
       "      <td>concept</td>\n",
       "    </tr>\n",
       "    <tr>\n",
       "      <th>2</th>\n",
       "      <td>185</td>\n",
       "      <td>45</td>\n",
       "      <td>6</td>\n",
       "      <td>concept</td>\n",
       "    </tr>\n",
       "    <tr>\n",
       "      <th>3</th>\n",
       "      <td>192</td>\n",
       "      <td>79</td>\n",
       "      <td>5</td>\n",
       "      <td>solving question</td>\n",
       "    </tr>\n",
       "    <tr>\n",
       "      <th>4</th>\n",
       "      <td>317</td>\n",
       "      <td>156</td>\n",
       "      <td>5</td>\n",
       "      <td>solving question</td>\n",
       "    </tr>\n",
       "  </tbody>\n",
       "</table>\n",
       "</div>"
      ],
      "text/plain": [
       "   lecture_id  tag  part           type_of\n",
       "0          89  159     5           concept\n",
       "1         100   70     1           concept\n",
       "2         185   45     6           concept\n",
       "3         192   79     5  solving question\n",
       "4         317  156     5  solving question"
      ]
     },
     "execution_count": 34,
     "metadata": {},
     "output_type": "execute_result"
    }
   ],
   "source": [
    "lectures_data.head()"
   ]
  },
  {
   "cell_type": "code",
   "execution_count": 36,
   "id": "126e8466-6e41-4367-81ac-dbd8b75aae90",
   "metadata": {},
   "outputs": [
    {
     "data": {
      "text/html": [
       "<div>\n",
       "<style scoped>\n",
       "    .dataframe tbody tr th:only-of-type {\n",
       "        vertical-align: middle;\n",
       "    }\n",
       "\n",
       "    .dataframe tbody tr th {\n",
       "        vertical-align: top;\n",
       "    }\n",
       "\n",
       "    .dataframe thead th {\n",
       "        text-align: right;\n",
       "    }\n",
       "</style>\n",
       "<table border=\"1\" class=\"dataframe\">\n",
       "  <thead>\n",
       "    <tr style=\"text-align: right;\">\n",
       "      <th></th>\n",
       "      <th>question_id</th>\n",
       "      <th>bundle_id</th>\n",
       "      <th>correct_answer</th>\n",
       "      <th>part</th>\n",
       "      <th>tags</th>\n",
       "    </tr>\n",
       "  </thead>\n",
       "  <tbody>\n",
       "    <tr>\n",
       "      <th>0</th>\n",
       "      <td>0</td>\n",
       "      <td>0</td>\n",
       "      <td>0</td>\n",
       "      <td>1</td>\n",
       "      <td>51 131 162 38</td>\n",
       "    </tr>\n",
       "    <tr>\n",
       "      <th>1</th>\n",
       "      <td>1</td>\n",
       "      <td>1</td>\n",
       "      <td>1</td>\n",
       "      <td>1</td>\n",
       "      <td>131 36 81</td>\n",
       "    </tr>\n",
       "    <tr>\n",
       "      <th>2</th>\n",
       "      <td>2</td>\n",
       "      <td>2</td>\n",
       "      <td>0</td>\n",
       "      <td>1</td>\n",
       "      <td>131 101 162 92</td>\n",
       "    </tr>\n",
       "    <tr>\n",
       "      <th>3</th>\n",
       "      <td>3</td>\n",
       "      <td>3</td>\n",
       "      <td>0</td>\n",
       "      <td>1</td>\n",
       "      <td>131 149 162 29</td>\n",
       "    </tr>\n",
       "    <tr>\n",
       "      <th>4</th>\n",
       "      <td>4</td>\n",
       "      <td>4</td>\n",
       "      <td>3</td>\n",
       "      <td>1</td>\n",
       "      <td>131 5 162 38</td>\n",
       "    </tr>\n",
       "  </tbody>\n",
       "</table>\n",
       "</div>"
      ],
      "text/plain": [
       "   question_id  bundle_id  correct_answer  part            tags\n",
       "0            0          0               0     1   51 131 162 38\n",
       "1            1          1               1     1       131 36 81\n",
       "2            2          2               0     1  131 101 162 92\n",
       "3            3          3               0     1  131 149 162 29\n",
       "4            4          4               3     1    131 5 162 38"
      ]
     },
     "execution_count": 36,
     "metadata": {},
     "output_type": "execute_result"
    }
   ],
   "source": [
    "questions_data.head()"
   ]
  },
  {
   "cell_type": "code",
   "execution_count": 38,
   "id": "e7907b05-d6ab-429b-9781-faa08342c77e",
   "metadata": {},
   "outputs": [
    {
     "data": {
      "text/html": [
       "<div>\n",
       "<style scoped>\n",
       "    .dataframe tbody tr th:only-of-type {\n",
       "        vertical-align: middle;\n",
       "    }\n",
       "\n",
       "    .dataframe tbody tr th {\n",
       "        vertical-align: top;\n",
       "    }\n",
       "\n",
       "    .dataframe thead th {\n",
       "        text-align: right;\n",
       "    }\n",
       "</style>\n",
       "<table border=\"1\" class=\"dataframe\">\n",
       "  <thead>\n",
       "    <tr style=\"text-align: right;\">\n",
       "      <th></th>\n",
       "      <th>row_id</th>\n",
       "      <th>timestamp</th>\n",
       "      <th>user_id</th>\n",
       "      <th>content_id</th>\n",
       "      <th>content_type_id</th>\n",
       "      <th>task_container_id</th>\n",
       "      <th>user_answer</th>\n",
       "      <th>answered_correctly</th>\n",
       "      <th>prior_question_elapsed_time</th>\n",
       "      <th>prior_question_had_explanation</th>\n",
       "    </tr>\n",
       "  </thead>\n",
       "  <tbody>\n",
       "    <tr>\n",
       "      <th>0</th>\n",
       "      <td>0</td>\n",
       "      <td>0</td>\n",
       "      <td>115</td>\n",
       "      <td>5692</td>\n",
       "      <td>0</td>\n",
       "      <td>1</td>\n",
       "      <td>3</td>\n",
       "      <td>1</td>\n",
       "      <td>NaN</td>\n",
       "      <td>NaN</td>\n",
       "    </tr>\n",
       "    <tr>\n",
       "      <th>1</th>\n",
       "      <td>1</td>\n",
       "      <td>56943</td>\n",
       "      <td>115</td>\n",
       "      <td>5716</td>\n",
       "      <td>0</td>\n",
       "      <td>2</td>\n",
       "      <td>2</td>\n",
       "      <td>1</td>\n",
       "      <td>37000.0</td>\n",
       "      <td>False</td>\n",
       "    </tr>\n",
       "    <tr>\n",
       "      <th>2</th>\n",
       "      <td>2</td>\n",
       "      <td>118363</td>\n",
       "      <td>115</td>\n",
       "      <td>128</td>\n",
       "      <td>0</td>\n",
       "      <td>0</td>\n",
       "      <td>0</td>\n",
       "      <td>1</td>\n",
       "      <td>55000.0</td>\n",
       "      <td>False</td>\n",
       "    </tr>\n",
       "    <tr>\n",
       "      <th>3</th>\n",
       "      <td>3</td>\n",
       "      <td>131167</td>\n",
       "      <td>115</td>\n",
       "      <td>7860</td>\n",
       "      <td>0</td>\n",
       "      <td>3</td>\n",
       "      <td>0</td>\n",
       "      <td>1</td>\n",
       "      <td>19000.0</td>\n",
       "      <td>False</td>\n",
       "    </tr>\n",
       "    <tr>\n",
       "      <th>4</th>\n",
       "      <td>4</td>\n",
       "      <td>137965</td>\n",
       "      <td>115</td>\n",
       "      <td>7922</td>\n",
       "      <td>0</td>\n",
       "      <td>4</td>\n",
       "      <td>1</td>\n",
       "      <td>1</td>\n",
       "      <td>11000.0</td>\n",
       "      <td>False</td>\n",
       "    </tr>\n",
       "  </tbody>\n",
       "</table>\n",
       "</div>"
      ],
      "text/plain": [
       "   row_id  timestamp  user_id  content_id  content_type_id  task_container_id  \\\n",
       "0       0          0      115        5692                0                  1   \n",
       "1       1      56943      115        5716                0                  2   \n",
       "2       2     118363      115         128                0                  0   \n",
       "3       3     131167      115        7860                0                  3   \n",
       "4       4     137965      115        7922                0                  4   \n",
       "\n",
       "   user_answer  answered_correctly  prior_question_elapsed_time  \\\n",
       "0            3                   1                          NaN   \n",
       "1            2                   1                      37000.0   \n",
       "2            0                   1                      55000.0   \n",
       "3            0                   1                      19000.0   \n",
       "4            1                   1                      11000.0   \n",
       "\n",
       "  prior_question_had_explanation  \n",
       "0                            NaN  \n",
       "1                          False  \n",
       "2                          False  \n",
       "3                          False  \n",
       "4                          False  "
      ]
     },
     "execution_count": 38,
     "metadata": {},
     "output_type": "execute_result"
    }
   ],
   "source": [
    "train_data.head()"
   ]
  },
  {
   "cell_type": "code",
   "execution_count": 72,
   "id": "b20d11e8-f44f-4f3b-a3b3-5e1afb7fd9fb",
   "metadata": {},
   "outputs": [
    {
     "data": {
      "text/html": [
       "<div>\n",
       "<style scoped>\n",
       "    .dataframe tbody tr th:only-of-type {\n",
       "        vertical-align: middle;\n",
       "    }\n",
       "\n",
       "    .dataframe tbody tr th {\n",
       "        vertical-align: top;\n",
       "    }\n",
       "\n",
       "    .dataframe thead th {\n",
       "        text-align: right;\n",
       "    }\n",
       "</style>\n",
       "<table border=\"1\" class=\"dataframe\">\n",
       "  <thead>\n",
       "    <tr style=\"text-align: right;\">\n",
       "      <th></th>\n",
       "      <th>row_id</th>\n",
       "      <th>timestamp</th>\n",
       "      <th>user_id</th>\n",
       "      <th>content_id</th>\n",
       "      <th>content_type_id</th>\n",
       "      <th>task_container_id</th>\n",
       "      <th>user_answer</th>\n",
       "      <th>answered_correctly</th>\n",
       "      <th>prior_question_elapsed_time</th>\n",
       "    </tr>\n",
       "  </thead>\n",
       "  <tbody>\n",
       "    <tr>\n",
       "      <th>count</th>\n",
       "      <td>101230332.00</td>\n",
       "      <td>101230332.00</td>\n",
       "      <td>101230332.00</td>\n",
       "      <td>101230332.00</td>\n",
       "      <td>101230332.00</td>\n",
       "      <td>101230332.00</td>\n",
       "      <td>101230332.00</td>\n",
       "      <td>101230332.00</td>\n",
       "      <td>98878794.00</td>\n",
       "    </tr>\n",
       "    <tr>\n",
       "      <th>mean</th>\n",
       "      <td>50615165.50</td>\n",
       "      <td>7703643654.33</td>\n",
       "      <td>1076732424.20</td>\n",
       "      <td>5219.60</td>\n",
       "      <td>0.02</td>\n",
       "      <td>904.06</td>\n",
       "      <td>1.38</td>\n",
       "      <td>0.63</td>\n",
       "      <td>25423.81</td>\n",
       "    </tr>\n",
       "    <tr>\n",
       "      <th>std</th>\n",
       "      <td>29222679.86</td>\n",
       "      <td>11592655308.51</td>\n",
       "      <td>619716349.50</td>\n",
       "      <td>3866.36</td>\n",
       "      <td>0.14</td>\n",
       "      <td>1358.30</td>\n",
       "      <td>1.19</td>\n",
       "      <td>0.52</td>\n",
       "      <td>19948.15</td>\n",
       "    </tr>\n",
       "    <tr>\n",
       "      <th>min</th>\n",
       "      <td>0.00</td>\n",
       "      <td>0.00</td>\n",
       "      <td>115.00</td>\n",
       "      <td>0.00</td>\n",
       "      <td>0.00</td>\n",
       "      <td>0.00</td>\n",
       "      <td>-1.00</td>\n",
       "      <td>-1.00</td>\n",
       "      <td>0.00</td>\n",
       "    </tr>\n",
       "    <tr>\n",
       "      <th>25%</th>\n",
       "      <td>25307582.75</td>\n",
       "      <td>524343559.00</td>\n",
       "      <td>540811564.00</td>\n",
       "      <td>2063.00</td>\n",
       "      <td>0.00</td>\n",
       "      <td>104.00</td>\n",
       "      <td>0.00</td>\n",
       "      <td>0.00</td>\n",
       "      <td>16000.00</td>\n",
       "    </tr>\n",
       "    <tr>\n",
       "      <th>50%</th>\n",
       "      <td>50615165.50</td>\n",
       "      <td>2674233764.50</td>\n",
       "      <td>1071781070.00</td>\n",
       "      <td>5026.00</td>\n",
       "      <td>0.00</td>\n",
       "      <td>382.00</td>\n",
       "      <td>1.00</td>\n",
       "      <td>1.00</td>\n",
       "      <td>21000.00</td>\n",
       "    </tr>\n",
       "    <tr>\n",
       "      <th>75%</th>\n",
       "      <td>75922748.25</td>\n",
       "      <td>9924550562.75</td>\n",
       "      <td>1615741676.00</td>\n",
       "      <td>7425.00</td>\n",
       "      <td>0.00</td>\n",
       "      <td>1094.00</td>\n",
       "      <td>3.00</td>\n",
       "      <td>1.00</td>\n",
       "      <td>29666.00</td>\n",
       "    </tr>\n",
       "    <tr>\n",
       "      <th>max</th>\n",
       "      <td>101230331.00</td>\n",
       "      <td>87425772049.00</td>\n",
       "      <td>2147482888.00</td>\n",
       "      <td>32736.00</td>\n",
       "      <td>1.00</td>\n",
       "      <td>9999.00</td>\n",
       "      <td>3.00</td>\n",
       "      <td>1.00</td>\n",
       "      <td>300000.00</td>\n",
       "    </tr>\n",
       "  </tbody>\n",
       "</table>\n",
       "</div>"
      ],
      "text/plain": [
       "             row_id       timestamp        user_id    content_id  \\\n",
       "count  101230332.00    101230332.00   101230332.00  101230332.00   \n",
       "mean    50615165.50   7703643654.33  1076732424.20       5219.60   \n",
       "std     29222679.86  11592655308.51   619716349.50       3866.36   \n",
       "min            0.00            0.00         115.00          0.00   \n",
       "25%     25307582.75    524343559.00   540811564.00       2063.00   \n",
       "50%     50615165.50   2674233764.50  1071781070.00       5026.00   \n",
       "75%     75922748.25   9924550562.75  1615741676.00       7425.00   \n",
       "max    101230331.00  87425772049.00  2147482888.00      32736.00   \n",
       "\n",
       "      content_type_id task_container_id   user_answer answered_correctly  \\\n",
       "count    101230332.00      101230332.00  101230332.00       101230332.00   \n",
       "mean             0.02            904.06          1.38               0.63   \n",
       "std              0.14           1358.30          1.19               0.52   \n",
       "min              0.00              0.00         -1.00              -1.00   \n",
       "25%              0.00            104.00          0.00               0.00   \n",
       "50%              0.00            382.00          1.00               1.00   \n",
       "75%              0.00           1094.00          3.00               1.00   \n",
       "max              1.00           9999.00          3.00               1.00   \n",
       "\n",
       "      prior_question_elapsed_time  \n",
       "count                 98878794.00  \n",
       "mean                     25423.81  \n",
       "std                      19948.15  \n",
       "min                          0.00  \n",
       "25%                      16000.00  \n",
       "50%                      21000.00  \n",
       "75%                      29666.00  \n",
       "max                     300000.00  "
      ]
     },
     "execution_count": 72,
     "metadata": {},
     "output_type": "execute_result"
    }
   ],
   "source": [
    "# describe() выдает экспоненциальное представление, что не очень информативно\n",
    "# поменяем формат вывода данных\n",
    "train_data.describe().apply(lambda s: s.apply('{0:.2f}'.format))"
   ]
  },
  {
   "cell_type": "code",
   "execution_count": 64,
   "id": "a24aebcd-3c74-4b89-8ea7-74de04ffb25d",
   "metadata": {},
   "outputs": [
    {
     "name": "stdout",
     "output_type": "stream",
     "text": [
      "Answered correctly: 62.5%\n"
     ]
    }
   ],
   "source": [
    "correct_answers = train_data['answered_correctly'].mean()\n",
    "print(f'Answered correctly: {correct_answers * 100:.1f}%')"
   ]
  },
  {
   "cell_type": "code",
   "execution_count": 76,
   "id": "ddc6bd20-1dae-453c-84b8-0e6f53d9ad76",
   "metadata": {},
   "outputs": [
    {
     "name": "stdout",
     "output_type": "stream",
     "text": [
      "Среднее время затраченное на ответ: 25.42 секунд\n"
     ]
    }
   ],
   "source": [
    "# Средннее время, затраченное на ответ\n",
    "time_answers = train_data['prior_question_elapsed_time'].mean()\n",
    "print(f'Среднее время затраченное на ответ: {time_answers / 1000 :.2f} секунд')"
   ]
  },
  {
   "cell_type": "code",
   "execution_count": 78,
   "id": "ea3656a2-5d09-4f07-a8a6-4450fa64d9d5",
   "metadata": {},
   "outputs": [
    {
     "name": "stdout",
     "output_type": "stream",
     "text": [
      "prior_question_elapsed_time\n",
      "0.0         0.618971\n",
      "200.0       0.715847\n",
      "250.0       0.553957\n",
      "333.0       0.698964\n",
      "400.0       0.663158\n",
      "              ...   \n",
      "299600.0    0.333333\n",
      "299666.0    1.000000\n",
      "299750.0    0.538462\n",
      "299800.0    0.615385\n",
      "300000.0    0.619951\n",
      "Name: answered_correctly, Length: 3258, dtype: float64\n"
     ]
    }
   ],
   "source": [
    "# Влияние объяснений на правильность ответа\n",
    "explanation_correct = train_data.groupby('prior_question_elapsed_time')['answered_correctly'].mean()\n",
    "print(explanation_correct)\n",
    "# В среднем продолжительность объяснений немного увеличевает процент правильных ответов"
   ]
  },
  {
   "cell_type": "code",
   "execution_count": 84,
   "id": "c637c7d0-7526-482d-bb49-d49bf8ac0913",
   "metadata": {},
   "outputs": [
    {
     "name": "stdout",
     "output_type": "stream",
     "text": [
      "<class 'pandas.core.frame.DataFrame'>\n",
      "RangeIndex: 99271300 entries, 0 to 99271299\n",
      "Data columns (total 15 columns):\n",
      " #   Column                          Non-Null Count     Dtype  \n",
      "---  ------                          --------------     -----  \n",
      " 0   row_id                          99271300 non-null  int64  \n",
      " 1   timestamp                       99271300 non-null  int64  \n",
      " 2   user_id                         99271300 non-null  int64  \n",
      " 3   content_id                      99271300 non-null  int64  \n",
      " 4   content_type_id                 99271300 non-null  int64  \n",
      " 5   task_container_id               99271300 non-null  int64  \n",
      " 6   user_answer                     99271300 non-null  int64  \n",
      " 7   answered_correctly              99271300 non-null  int64  \n",
      " 8   prior_question_elapsed_time     98878794 non-null  float64\n",
      " 9   prior_question_had_explanation  98878794 non-null  object \n",
      " 10  question_id                     99271300 non-null  int64  \n",
      " 11  bundle_id                       99271300 non-null  int64  \n",
      " 12  correct_answer                  99271300 non-null  int64  \n",
      " 13  part                            99271300 non-null  int64  \n",
      " 14  tags                            99271299 non-null  object \n",
      "dtypes: float64(1), int64(12), object(2)\n",
      "memory usage: 11.1+ GB\n"
     ]
    }
   ],
   "source": [
    "# Объединение данных для анализа вопросов\n",
    "merged_df = pd.merge(train_data[train_data['content_type_id'] == 0], questions_data, left_on='content_id', right_on='question_id')\n",
    "merged_df.info(show_counts=True)"
   ]
  },
  {
   "cell_type": "code",
   "execution_count": 86,
   "id": "35a9ac45-2a15-4a31-97e2-c18ca653ad93",
   "metadata": {},
   "outputs": [
    {
     "data": {
      "text/html": [
       "<div>\n",
       "<style scoped>\n",
       "    .dataframe tbody tr th:only-of-type {\n",
       "        vertical-align: middle;\n",
       "    }\n",
       "\n",
       "    .dataframe tbody tr th {\n",
       "        vertical-align: top;\n",
       "    }\n",
       "\n",
       "    .dataframe thead th {\n",
       "        text-align: right;\n",
       "    }\n",
       "</style>\n",
       "<table border=\"1\" class=\"dataframe\">\n",
       "  <thead>\n",
       "    <tr style=\"text-align: right;\">\n",
       "      <th></th>\n",
       "      <th>row_id</th>\n",
       "      <th>timestamp</th>\n",
       "      <th>user_id</th>\n",
       "      <th>content_id</th>\n",
       "      <th>content_type_id</th>\n",
       "      <th>task_container_id</th>\n",
       "      <th>user_answer</th>\n",
       "      <th>answered_correctly</th>\n",
       "      <th>prior_question_elapsed_time</th>\n",
       "      <th>prior_question_had_explanation</th>\n",
       "      <th>question_id</th>\n",
       "      <th>bundle_id</th>\n",
       "      <th>correct_answer</th>\n",
       "      <th>part</th>\n",
       "      <th>tags</th>\n",
       "    </tr>\n",
       "  </thead>\n",
       "  <tbody>\n",
       "    <tr>\n",
       "      <th>0</th>\n",
       "      <td>0</td>\n",
       "      <td>0</td>\n",
       "      <td>115</td>\n",
       "      <td>5692</td>\n",
       "      <td>0</td>\n",
       "      <td>1</td>\n",
       "      <td>3</td>\n",
       "      <td>1</td>\n",
       "      <td>NaN</td>\n",
       "      <td>NaN</td>\n",
       "      <td>5692</td>\n",
       "      <td>5692</td>\n",
       "      <td>3</td>\n",
       "      <td>5</td>\n",
       "      <td>151</td>\n",
       "    </tr>\n",
       "    <tr>\n",
       "      <th>1</th>\n",
       "      <td>1</td>\n",
       "      <td>56943</td>\n",
       "      <td>115</td>\n",
       "      <td>5716</td>\n",
       "      <td>0</td>\n",
       "      <td>2</td>\n",
       "      <td>2</td>\n",
       "      <td>1</td>\n",
       "      <td>37000.0</td>\n",
       "      <td>False</td>\n",
       "      <td>5716</td>\n",
       "      <td>5716</td>\n",
       "      <td>2</td>\n",
       "      <td>5</td>\n",
       "      <td>168</td>\n",
       "    </tr>\n",
       "    <tr>\n",
       "      <th>2</th>\n",
       "      <td>2</td>\n",
       "      <td>118363</td>\n",
       "      <td>115</td>\n",
       "      <td>128</td>\n",
       "      <td>0</td>\n",
       "      <td>0</td>\n",
       "      <td>0</td>\n",
       "      <td>1</td>\n",
       "      <td>55000.0</td>\n",
       "      <td>False</td>\n",
       "      <td>128</td>\n",
       "      <td>128</td>\n",
       "      <td>0</td>\n",
       "      <td>1</td>\n",
       "      <td>131 149 92</td>\n",
       "    </tr>\n",
       "    <tr>\n",
       "      <th>3</th>\n",
       "      <td>3</td>\n",
       "      <td>131167</td>\n",
       "      <td>115</td>\n",
       "      <td>7860</td>\n",
       "      <td>0</td>\n",
       "      <td>3</td>\n",
       "      <td>0</td>\n",
       "      <td>1</td>\n",
       "      <td>19000.0</td>\n",
       "      <td>False</td>\n",
       "      <td>7860</td>\n",
       "      <td>7860</td>\n",
       "      <td>0</td>\n",
       "      <td>1</td>\n",
       "      <td>131 104 81</td>\n",
       "    </tr>\n",
       "    <tr>\n",
       "      <th>4</th>\n",
       "      <td>4</td>\n",
       "      <td>137965</td>\n",
       "      <td>115</td>\n",
       "      <td>7922</td>\n",
       "      <td>0</td>\n",
       "      <td>4</td>\n",
       "      <td>1</td>\n",
       "      <td>1</td>\n",
       "      <td>11000.0</td>\n",
       "      <td>False</td>\n",
       "      <td>7922</td>\n",
       "      <td>7922</td>\n",
       "      <td>1</td>\n",
       "      <td>1</td>\n",
       "      <td>131 149 92</td>\n",
       "    </tr>\n",
       "    <tr>\n",
       "      <th>5</th>\n",
       "      <td>5</td>\n",
       "      <td>157063</td>\n",
       "      <td>115</td>\n",
       "      <td>156</td>\n",
       "      <td>0</td>\n",
       "      <td>5</td>\n",
       "      <td>2</td>\n",
       "      <td>1</td>\n",
       "      <td>5000.0</td>\n",
       "      <td>False</td>\n",
       "      <td>156</td>\n",
       "      <td>156</td>\n",
       "      <td>2</td>\n",
       "      <td>1</td>\n",
       "      <td>131 101 162 38</td>\n",
       "    </tr>\n",
       "    <tr>\n",
       "      <th>6</th>\n",
       "      <td>6</td>\n",
       "      <td>176092</td>\n",
       "      <td>115</td>\n",
       "      <td>51</td>\n",
       "      <td>0</td>\n",
       "      <td>6</td>\n",
       "      <td>0</td>\n",
       "      <td>1</td>\n",
       "      <td>17000.0</td>\n",
       "      <td>False</td>\n",
       "      <td>51</td>\n",
       "      <td>51</td>\n",
       "      <td>0</td>\n",
       "      <td>1</td>\n",
       "      <td>131 187 81</td>\n",
       "    </tr>\n",
       "    <tr>\n",
       "      <th>7</th>\n",
       "      <td>7</td>\n",
       "      <td>194190</td>\n",
       "      <td>115</td>\n",
       "      <td>50</td>\n",
       "      <td>0</td>\n",
       "      <td>7</td>\n",
       "      <td>3</td>\n",
       "      <td>1</td>\n",
       "      <td>17000.0</td>\n",
       "      <td>False</td>\n",
       "      <td>50</td>\n",
       "      <td>50</td>\n",
       "      <td>3</td>\n",
       "      <td>1</td>\n",
       "      <td>131 101 38</td>\n",
       "    </tr>\n",
       "    <tr>\n",
       "      <th>8</th>\n",
       "      <td>8</td>\n",
       "      <td>212463</td>\n",
       "      <td>115</td>\n",
       "      <td>7896</td>\n",
       "      <td>0</td>\n",
       "      <td>8</td>\n",
       "      <td>2</td>\n",
       "      <td>1</td>\n",
       "      <td>16000.0</td>\n",
       "      <td>False</td>\n",
       "      <td>7896</td>\n",
       "      <td>7896</td>\n",
       "      <td>2</td>\n",
       "      <td>1</td>\n",
       "      <td>131 104 162 81</td>\n",
       "    </tr>\n",
       "    <tr>\n",
       "      <th>9</th>\n",
       "      <td>9</td>\n",
       "      <td>230983</td>\n",
       "      <td>115</td>\n",
       "      <td>7863</td>\n",
       "      <td>0</td>\n",
       "      <td>9</td>\n",
       "      <td>0</td>\n",
       "      <td>1</td>\n",
       "      <td>16000.0</td>\n",
       "      <td>False</td>\n",
       "      <td>7863</td>\n",
       "      <td>7863</td>\n",
       "      <td>0</td>\n",
       "      <td>1</td>\n",
       "      <td>131 68 92</td>\n",
       "    </tr>\n",
       "  </tbody>\n",
       "</table>\n",
       "</div>"
      ],
      "text/plain": [
       "   row_id  timestamp  user_id  content_id  content_type_id  task_container_id  \\\n",
       "0       0          0      115        5692                0                  1   \n",
       "1       1      56943      115        5716                0                  2   \n",
       "2       2     118363      115         128                0                  0   \n",
       "3       3     131167      115        7860                0                  3   \n",
       "4       4     137965      115        7922                0                  4   \n",
       "5       5     157063      115         156                0                  5   \n",
       "6       6     176092      115          51                0                  6   \n",
       "7       7     194190      115          50                0                  7   \n",
       "8       8     212463      115        7896                0                  8   \n",
       "9       9     230983      115        7863                0                  9   \n",
       "\n",
       "   user_answer  answered_correctly  prior_question_elapsed_time  \\\n",
       "0            3                   1                          NaN   \n",
       "1            2                   1                      37000.0   \n",
       "2            0                   1                      55000.0   \n",
       "3            0                   1                      19000.0   \n",
       "4            1                   1                      11000.0   \n",
       "5            2                   1                       5000.0   \n",
       "6            0                   1                      17000.0   \n",
       "7            3                   1                      17000.0   \n",
       "8            2                   1                      16000.0   \n",
       "9            0                   1                      16000.0   \n",
       "\n",
       "  prior_question_had_explanation  question_id  bundle_id  correct_answer  \\\n",
       "0                            NaN         5692       5692               3   \n",
       "1                          False         5716       5716               2   \n",
       "2                          False          128        128               0   \n",
       "3                          False         7860       7860               0   \n",
       "4                          False         7922       7922               1   \n",
       "5                          False          156        156               2   \n",
       "6                          False           51         51               0   \n",
       "7                          False           50         50               3   \n",
       "8                          False         7896       7896               2   \n",
       "9                          False         7863       7863               0   \n",
       "\n",
       "   part            tags  \n",
       "0     5             151  \n",
       "1     5             168  \n",
       "2     1      131 149 92  \n",
       "3     1      131 104 81  \n",
       "4     1      131 149 92  \n",
       "5     1  131 101 162 38  \n",
       "6     1      131 187 81  \n",
       "7     1      131 101 38  \n",
       "8     1  131 104 162 81  \n",
       "9     1       131 68 92  "
      ]
     },
     "execution_count": 86,
     "metadata": {},
     "output_type": "execute_result"
    }
   ],
   "source": [
    "merged_df.head(10)"
   ]
  },
  {
   "cell_type": "code",
   "execution_count": 88,
   "id": "31af56ef-7bc6-4b6f-858b-fc03cb59a83a",
   "metadata": {},
   "outputs": [
    {
     "name": "stdout",
     "output_type": "stream",
     "text": [
      "tags\n",
      "1                       26763.996359\n",
      "1 162                   33000.395965\n",
      "10 111 92               22855.656650\n",
      "10 164 102              22658.093688\n",
      "10 164 162 29           22530.558765\n",
      "                            ...     \n",
      "98 97 21                47655.376665\n",
      "98 97 35 117 122 162    49309.121525\n",
      "98 97 35 146 122        50064.807589\n",
      "98 97 46 135            50214.114445\n",
      "98 97 77 135 162        49710.686297\n",
      "Name: prior_question_elapsed_time, Length: 1519, dtype: float64\n"
     ]
    }
   ],
   "source": [
    "# Анализ по тегам.\n",
    "tag_correctness = merged_df.groupby('tags')['prior_question_elapsed_time'].mean()\n",
    "print(tag_correctness)"
   ]
  },
  {
   "cell_type": "code",
   "execution_count": 90,
   "id": "bbddfc0c-899c-4ec9-912f-cfb9db372bea",
   "metadata": {},
   "outputs": [
    {
     "name": "stdout",
     "output_type": "stream",
     "text": [
      "part\n",
      "1    22671.486070\n",
      "2    18715.771424\n",
      "3    23619.335747\n",
      "4    23758.835498\n",
      "5    25233.249525\n",
      "6    32413.610744\n",
      "7    47447.495993\n",
      "Name: prior_question_elapsed_time, dtype: float64\n"
     ]
    }
   ],
   "source": [
    "# Анализ по Part\n",
    "part_correctness = merged_df.groupby('part')['prior_question_elapsed_time'].mean()\n",
    "print(part_correctness)"
   ]
  },
  {
   "cell_type": "code",
   "execution_count": 92,
   "id": "a5c69d56-ede5-40b1-8e0d-caa1f5a516b3",
   "metadata": {},
   "outputs": [
    {
     "name": "stdout",
     "output_type": "stream",
     "text": [
      "correct_answer\n",
      "0    0.667421\n",
      "1    0.672807\n",
      "2    0.619220\n",
      "3    0.659225\n",
      "Name: answered_correctly, dtype: float64\n"
     ]
    }
   ],
   "source": [
    "#Анализ затраченного времени на количество правильных ответов\n",
    "tag_correctness = merged_df.groupby('correct_answer')['answered_correctly'].mean()\n",
    "print(tag_correctness)"
   ]
  },
  {
   "cell_type": "code",
   "execution_count": 94,
   "id": "dffebafe-af62-4b70-b4e3-c04e150fdf96",
   "metadata": {},
   "outputs": [
    {
     "name": "stdout",
     "output_type": "stream",
     "text": [
      "correct_answer\n",
      "0    0.915643\n",
      "1    0.930987\n",
      "2    0.861188\n",
      "3    0.908216\n",
      "Name: prior_question_had_explanation, dtype: object\n"
     ]
    }
   ],
   "source": [
    "tag_correctness = merged_df.groupby('correct_answer')['prior_question_had_explanation'].mean()\n",
    "print(tag_correctness)"
   ]
  },
  {
   "cell_type": "code",
   "execution_count": 96,
   "id": "5a0aa650-d3d4-497d-bde9-d0f5e23a4b51",
   "metadata": {},
   "outputs": [
    {
     "name": "stdout",
     "output_type": "stream",
     "text": [
      "Процент успешных ответов 65.72 %\n"
     ]
    }
   ],
   "source": [
    "# Посчитаем процент успешных ответов в объединенной таблице\n",
    "all_question = merged_df['answered_correctly'].shape[0]\n",
    "true_question  = merged_df[merged_df['answered_correctly'] == 1].shape[0]\n",
    "print(f'Процент успешных ответов {(true_question *100)/all_question:.2f} %')"
   ]
  },
  {
   "cell_type": "code",
   "execution_count": 98,
   "id": "7ae3e7d9-5418-4257-9fd5-8ed6265277a4",
   "metadata": {},
   "outputs": [
    {
     "name": "stdout",
     "output_type": "stream",
     "text": [
      "prior_question_had_explanation\n",
      "False    0.500629\n",
      "True     0.673189\n",
      "Name: answered_correctly, dtype: float64\n"
     ]
    }
   ],
   "source": [
    "# Проанализируем влияние наличие объяснения ответа на правильность.\n",
    "# Наличие объяснения влияет на успех\n",
    "explanation_correct =  merged_df.groupby('prior_question_had_explanation')['answered_correctly'].mean()\n",
    "print(explanation_correct)"
   ]
  },
  {
   "cell_type": "code",
   "execution_count": 100,
   "id": "20da2f52-4e54-4bfc-a284-7776595f2edf",
   "metadata": {},
   "outputs": [
    {
     "name": "stdout",
     "output_type": "stream",
     "text": [
      "task_container_id\n",
      "0       0.680027\n",
      "1       0.527191\n",
      "2       0.435713\n",
      "3       0.543192\n",
      "4       0.476968\n",
      "          ...   \n",
      "9995    0.763158\n",
      "9996    0.769231\n",
      "9997    0.756757\n",
      "9998    0.786885\n",
      "9999    0.738372\n",
      "Name: answered_correctly, Length: 10000, dtype: float64\n"
     ]
    }
   ],
   "source": [
    "# Анализ по количеству пакетов с вопросами на успеваемость\n",
    "tag_correctness = merged_df.groupby('task_container_id')['answered_correctly'].mean()\n",
    "print(tag_correctness)"
   ]
  },
  {
   "cell_type": "code",
   "execution_count": null,
   "id": "e943b754-9145-44cf-8aa9-c78bb1ebfd9a",
   "metadata": {},
   "outputs": [],
   "source": []
  }
 ],
 "metadata": {
  "kernelspec": {
   "display_name": "Python 3 (ipykernel)",
   "language": "python",
   "name": "python3"
  },
  "language_info": {
   "codemirror_mode": {
    "name": "ipython",
    "version": 3
   },
   "file_extension": ".py",
   "mimetype": "text/x-python",
   "name": "python",
   "nbconvert_exporter": "python",
   "pygments_lexer": "ipython3",
   "version": "3.12.4"
  }
 },
 "nbformat": 4,
 "nbformat_minor": 5
}
