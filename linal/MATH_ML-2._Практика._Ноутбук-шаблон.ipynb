{
  "cells": [
    {
      "cell_type": "markdown",
      "id": "b054bd88",
      "metadata": {
        "id": "b054bd88"
      },
      "source": [
        "# <center> Линейная алгебра в контексте линейных методов. Практика.\n",
        "\n",
        "## <center> Прогнозирование выработки газа на скважинах."
      ]
    },
    {
      "cell_type": "markdown",
      "id": "325bc80b",
      "metadata": {
        "id": "325bc80b"
      },
      "source": [
        "## Постановка задачи"
      ]
    },
    {
      "cell_type": "markdown",
      "id": "8247bd54",
      "metadata": {
        "id": "8247bd54"
      },
      "source": [
        "У Василия, основателя компании «Газ-Таз-Ваз-Нефть», дела идут в гору: у него уже функционирует 200 скважин для добычи газа. В этом году он открывает 30 новых скважин. Однако в целях оптимизации расходов и повышения дохода Василию необходимо оценить, сколько денег будет приносить ему каждая из скважин, а также понять, какие факторы (параметры скважин) потенциально сильнее всего повлияют на объём добычи газа. Для этого Василий решил нанять вас как специалиста в области Data Science.\n",
        "\n",
        "Василий представляет вам набор данных о добыче газа на своих скважинах. Файл с данными вы можете скачать на платформе.\n",
        "\n",
        "**Признаки в данных:**\n",
        "\n",
        "* Well — идентификатор скважины;\n",
        "* Por — пористость скважины (%);\n",
        "* Perm — проницаемость скважины;\n",
        "* AI — акустический импеданс ($кг/м^2 * 10^6$);\n",
        "* Brittle — коэффициент хрупкости скважины (%);\n",
        "* TOC — общий органический углерод (%);\n",
        "* VR — коэффициент отражения витринита (%);\n",
        "* Prod — добыча газа в сутки (млн. кубических футов).\n",
        "\n",
        "**Ваша задача** — построить регрессионную модель, которая прогнозирует выработку газа на скважине (целевой признак — Prod) на основе остальных характеристик скважины, и проинтерпретировать результаты вашей модели.\n",
        "\n",
        "Разделим задачу на две части:\n",
        "* В первой мы построим простейшую модель линейной регрессии, проанализируем результаты её работы и выберем наиболее значимые факторы для прогнозирования.\n",
        "* Во второй мы займёмся построением модели полиномиальной регрессии с регуляризацией и посмотрим на итоговые результаты моделирования.\n"
      ]
    },
    {
      "cell_type": "markdown",
      "id": "d67d069e",
      "metadata": {
        "id": "d67d069e"
      },
      "source": [
        "Импортируем необходимые библиотеки:"
      ]
    },
    {
      "cell_type": "code",
      "execution_count": 69,
      "id": "83a555bc-8dff-4b7e-bba1-cd4f4a9e69b2",
      "metadata": {
        "id": "83a555bc-8dff-4b7e-bba1-cd4f4a9e69b2"
      },
      "outputs": [],
      "source": [
        "# Импорт библиотек\n",
        "import numpy as np # для работы с массивами\n",
        "import pandas as pd # для работы с DataFrame \n",
        "import seaborn as sns # библиотека для визуализации статистических данных\n",
        "import matplotlib.pyplot as plt # для построения графиков\n",
        "import plotly.figure_factory as ff\n",
        "import plotly.express as px\n",
        "from mpmath.libmp import normalize\n",
        "\n",
        "%matplotlib inline"
      ]
    },
    {
      "cell_type": "markdown",
      "id": "e689ddaf",
      "metadata": {
        "id": "e689ddaf"
      },
      "source": [
        "Прочитаем исходные данные:"
      ]
    },
    {
      "cell_type": "code",
      "execution_count": 70,
      "id": "b7b5cd9b-703f-4dbc-a6e3-61d583eafcac",
      "metadata": {
        "colab": {
          "base_uri": "https://localhost:8080/",
          "height": 206
        },
        "id": "b7b5cd9b-703f-4dbc-a6e3-61d583eafcac",
        "outputId": "d4e99a48-2a0d-4edd-f86c-617c44bf36d2"
      },
      "outputs": [
        {
          "data": {
            "text/html": [
              "<div>\n",
              "<style scoped>\n",
              "    .dataframe tbody tr th:only-of-type {\n",
              "        vertical-align: middle;\n",
              "    }\n",
              "\n",
              "    .dataframe tbody tr th {\n",
              "        vertical-align: top;\n",
              "    }\n",
              "\n",
              "    .dataframe thead th {\n",
              "        text-align: right;\n",
              "    }\n",
              "</style>\n",
              "<table border=\"1\" class=\"dataframe\">\n",
              "  <thead>\n",
              "    <tr style=\"text-align: right;\">\n",
              "      <th></th>\n",
              "      <th>Well</th>\n",
              "      <th>Por</th>\n",
              "      <th>Perm</th>\n",
              "      <th>AI</th>\n",
              "      <th>Brittle</th>\n",
              "      <th>TOC</th>\n",
              "      <th>VR</th>\n",
              "      <th>Prod</th>\n",
              "    </tr>\n",
              "  </thead>\n",
              "  <tbody>\n",
              "    <tr>\n",
              "      <th>0</th>\n",
              "      <td>1</td>\n",
              "      <td>12.08</td>\n",
              "      <td>2.92</td>\n",
              "      <td>2.80</td>\n",
              "      <td>81.40</td>\n",
              "      <td>1.16</td>\n",
              "      <td>2.31</td>\n",
              "      <td>4165.196191</td>\n",
              "    </tr>\n",
              "    <tr>\n",
              "      <th>1</th>\n",
              "      <td>2</td>\n",
              "      <td>12.38</td>\n",
              "      <td>3.53</td>\n",
              "      <td>3.22</td>\n",
              "      <td>46.17</td>\n",
              "      <td>0.89</td>\n",
              "      <td>1.88</td>\n",
              "      <td>3561.146205</td>\n",
              "    </tr>\n",
              "    <tr>\n",
              "      <th>2</th>\n",
              "      <td>3</td>\n",
              "      <td>14.02</td>\n",
              "      <td>2.59</td>\n",
              "      <td>4.01</td>\n",
              "      <td>72.80</td>\n",
              "      <td>0.89</td>\n",
              "      <td>2.72</td>\n",
              "      <td>4284.348574</td>\n",
              "    </tr>\n",
              "    <tr>\n",
              "      <th>3</th>\n",
              "      <td>4</td>\n",
              "      <td>17.67</td>\n",
              "      <td>6.75</td>\n",
              "      <td>2.63</td>\n",
              "      <td>39.81</td>\n",
              "      <td>1.08</td>\n",
              "      <td>1.88</td>\n",
              "      <td>5098.680869</td>\n",
              "    </tr>\n",
              "    <tr>\n",
              "      <th>4</th>\n",
              "      <td>5</td>\n",
              "      <td>17.52</td>\n",
              "      <td>4.57</td>\n",
              "      <td>3.18</td>\n",
              "      <td>10.94</td>\n",
              "      <td>1.51</td>\n",
              "      <td>1.90</td>\n",
              "      <td>3406.132832</td>\n",
              "    </tr>\n",
              "  </tbody>\n",
              "</table>\n",
              "</div>"
            ],
            "text/plain": [
              "   Well    Por  Perm    AI  Brittle   TOC    VR         Prod\n",
              "0     1  12.08  2.92  2.80    81.40  1.16  2.31  4165.196191\n",
              "1     2  12.38  3.53  3.22    46.17  0.89  1.88  3561.146205\n",
              "2     3  14.02  2.59  4.01    72.80  0.89  2.72  4284.348574\n",
              "3     4  17.67  6.75  2.63    39.81  1.08  1.88  5098.680869\n",
              "4     5  17.52  4.57  3.18    10.94  1.51  1.90  3406.132832"
            ]
          },
          "execution_count": 70,
          "metadata": {},
          "output_type": "execute_result"
        }
      ],
      "source": [
        "data = pd.read_csv('/Users/GoncharovDS/mephi_sf/linal/unconv.csv')\n",
        "data.head()"
      ]
    },
    {
      "cell_type": "code",
      "execution_count": 87,
      "id": "71c72add",
      "metadata": {},
      "outputs": [
        {
          "name": "stdout",
          "output_type": "stream",
          "text": [
            "VR min: 0.93\n",
            "VR max: 2.87\n"
          ]
        }
      ],
      "source": [
        "print('VR min:', data['VR'].min())\n",
        "print('VR max:', data['VR'].max())"
      ]
    },
    {
      "cell_type": "markdown",
      "id": "58639b40",
      "metadata": {
        "id": "58639b40"
      },
      "source": [
        "## Практика: линейная регрессия по методу наименьших квадратов"
      ]
    },
    {
      "cell_type": "markdown",
      "id": "a90535b8",
      "metadata": {
        "id": "a90535b8"
      },
      "source": [
        "Для начала построим простейшую модель линейной регрессии, проанализируем результаты её работы и выберем наиболее значимые факторы для прогнозирования.\n",
        "\n",
        "В первой части вам предстоит выполнить задания 5.0–5.6. Максимальное количество баллов, которое можно получить, — 9."
      ]
    },
    {
      "cell_type": "markdown",
      "id": "4061b706",
      "metadata": {
        "id": "4061b706"
      },
      "source": [
        "### Задание 5.0. (не оценивается)\n",
        "\n",
        "Проведите небольшой разведывательный анализ, чтобы поближе познакомиться с исходными данными. Постройте несколько визуализаций, которые помогут вам понять, как устроены исходные признаки, а также смогут продемонстрировать взаимосвязь факторов. \n",
        "\n",
        "Сделайте промежуточные выводы из проведённого разведывательного анализа."
      ]
    },
    {
      "cell_type": "code",
      "execution_count": 71,
      "id": "daf1ccc7",
      "metadata": {
        "id": "daf1ccc7"
      },
      "outputs": [
        {
          "data": {
            "text/html": [
              "<div>\n",
              "<style scoped>\n",
              "    .dataframe tbody tr th:only-of-type {\n",
              "        vertical-align: middle;\n",
              "    }\n",
              "\n",
              "    .dataframe tbody tr th {\n",
              "        vertical-align: top;\n",
              "    }\n",
              "\n",
              "    .dataframe thead th {\n",
              "        text-align: right;\n",
              "    }\n",
              "</style>\n",
              "<table border=\"1\" class=\"dataframe\">\n",
              "  <thead>\n",
              "    <tr style=\"text-align: right;\">\n",
              "      <th></th>\n",
              "      <th>Well</th>\n",
              "      <th>Por</th>\n",
              "      <th>Perm</th>\n",
              "      <th>AI</th>\n",
              "      <th>Brittle</th>\n",
              "      <th>TOC</th>\n",
              "      <th>VR</th>\n",
              "      <th>Prod</th>\n",
              "    </tr>\n",
              "  </thead>\n",
              "  <tbody>\n",
              "    <tr>\n",
              "      <th>0</th>\n",
              "      <td>1</td>\n",
              "      <td>12.08</td>\n",
              "      <td>2.92</td>\n",
              "      <td>2.80</td>\n",
              "      <td>81.40</td>\n",
              "      <td>1.16</td>\n",
              "      <td>2.31</td>\n",
              "      <td>4165.196191</td>\n",
              "    </tr>\n",
              "    <tr>\n",
              "      <th>1</th>\n",
              "      <td>2</td>\n",
              "      <td>12.38</td>\n",
              "      <td>3.53</td>\n",
              "      <td>3.22</td>\n",
              "      <td>46.17</td>\n",
              "      <td>0.89</td>\n",
              "      <td>1.88</td>\n",
              "      <td>3561.146205</td>\n",
              "    </tr>\n",
              "    <tr>\n",
              "      <th>2</th>\n",
              "      <td>3</td>\n",
              "      <td>14.02</td>\n",
              "      <td>2.59</td>\n",
              "      <td>4.01</td>\n",
              "      <td>72.80</td>\n",
              "      <td>0.89</td>\n",
              "      <td>2.72</td>\n",
              "      <td>4284.348574</td>\n",
              "    </tr>\n",
              "    <tr>\n",
              "      <th>3</th>\n",
              "      <td>4</td>\n",
              "      <td>17.67</td>\n",
              "      <td>6.75</td>\n",
              "      <td>2.63</td>\n",
              "      <td>39.81</td>\n",
              "      <td>1.08</td>\n",
              "      <td>1.88</td>\n",
              "      <td>5098.680869</td>\n",
              "    </tr>\n",
              "    <tr>\n",
              "      <th>4</th>\n",
              "      <td>5</td>\n",
              "      <td>17.52</td>\n",
              "      <td>4.57</td>\n",
              "      <td>3.18</td>\n",
              "      <td>10.94</td>\n",
              "      <td>1.51</td>\n",
              "      <td>1.90</td>\n",
              "      <td>3406.132832</td>\n",
              "    </tr>\n",
              "    <tr>\n",
              "      <th>...</th>\n",
              "      <td>...</td>\n",
              "      <td>...</td>\n",
              "      <td>...</td>\n",
              "      <td>...</td>\n",
              "      <td>...</td>\n",
              "      <td>...</td>\n",
              "      <td>...</td>\n",
              "      <td>...</td>\n",
              "    </tr>\n",
              "    <tr>\n",
              "      <th>195</th>\n",
              "      <td>196</td>\n",
              "      <td>11.95</td>\n",
              "      <td>3.13</td>\n",
              "      <td>2.97</td>\n",
              "      <td>67.18</td>\n",
              "      <td>0.80</td>\n",
              "      <td>2.06</td>\n",
              "      <td>3847.571003</td>\n",
              "    </tr>\n",
              "    <tr>\n",
              "      <th>196</th>\n",
              "      <td>197</td>\n",
              "      <td>17.99</td>\n",
              "      <td>9.87</td>\n",
              "      <td>3.38</td>\n",
              "      <td>44.32</td>\n",
              "      <td>0.98</td>\n",
              "      <td>2.08</td>\n",
              "      <td>5601.227131</td>\n",
              "    </tr>\n",
              "    <tr>\n",
              "      <th>197</th>\n",
              "      <td>198</td>\n",
              "      <td>12.12</td>\n",
              "      <td>2.27</td>\n",
              "      <td>3.52</td>\n",
              "      <td>57.07</td>\n",
              "      <td>-0.04</td>\n",
              "      <td>1.73</td>\n",
              "      <td>3409.575363</td>\n",
              "    </tr>\n",
              "    <tr>\n",
              "      <th>198</th>\n",
              "      <td>199</td>\n",
              "      <td>15.55</td>\n",
              "      <td>4.48</td>\n",
              "      <td>2.48</td>\n",
              "      <td>58.25</td>\n",
              "      <td>1.89</td>\n",
              "      <td>2.35</td>\n",
              "      <td>5087.592149</td>\n",
              "    </tr>\n",
              "    <tr>\n",
              "      <th>199</th>\n",
              "      <td>200</td>\n",
              "      <td>20.89</td>\n",
              "      <td>7.54</td>\n",
              "      <td>3.23</td>\n",
              "      <td>46.17</td>\n",
              "      <td>1.71</td>\n",
              "      <td>2.27</td>\n",
              "      <td>6662.622385</td>\n",
              "    </tr>\n",
              "  </tbody>\n",
              "</table>\n",
              "<p>200 rows × 8 columns</p>\n",
              "</div>"
            ],
            "text/plain": [
              "     Well    Por  Perm    AI  Brittle   TOC    VR         Prod\n",
              "0       1  12.08  2.92  2.80    81.40  1.16  2.31  4165.196191\n",
              "1       2  12.38  3.53  3.22    46.17  0.89  1.88  3561.146205\n",
              "2       3  14.02  2.59  4.01    72.80  0.89  2.72  4284.348574\n",
              "3       4  17.67  6.75  2.63    39.81  1.08  1.88  5098.680869\n",
              "4       5  17.52  4.57  3.18    10.94  1.51  1.90  3406.132832\n",
              "..    ...    ...   ...   ...      ...   ...   ...          ...\n",
              "195   196  11.95  3.13  2.97    67.18  0.80  2.06  3847.571003\n",
              "196   197  17.99  9.87  3.38    44.32  0.98  2.08  5601.227131\n",
              "197   198  12.12  2.27  3.52    57.07 -0.04  1.73  3409.575363\n",
              "198   199  15.55  4.48  2.48    58.25  1.89  2.35  5087.592149\n",
              "199   200  20.89  7.54  3.23    46.17  1.71  2.27  6662.622385\n",
              "\n",
              "[200 rows x 8 columns]"
            ]
          },
          "execution_count": 71,
          "metadata": {},
          "output_type": "execute_result"
        }
      ],
      "source": [
        "# Ваш код здесь\n",
        "df = pd.DataFrame(data)\n",
        "df"
      ]
    },
    {
      "cell_type": "code",
      "execution_count": 72,
      "id": "d90b4b15",
      "metadata": {},
      "outputs": [],
      "source": [
        "df_values = df.values"
      ]
    },
    {
      "cell_type": "code",
      "execution_count": 73,
      "id": "83528f1d",
      "metadata": {},
      "outputs": [
        {
          "data": {
            "image/png": "[encoded data removed]",
            "text/plain": [
              "<Figure size 1200x800 with 9 Axes>"
            ]
          },
          "metadata": {},
          "output_type": "display_data"
        }
      ],
      "source": [
        "data.hist(figsize=(12, 8), bins=15, color='skyblue', edgecolor='black')\n",
        "plt.suptitle('Распределение признаков', fontsize=16)\n",
        "plt.tight_layout()\n",
        "plt.show()"
      ]
    },
    {
      "cell_type": "code",
      "execution_count": 74,
      "id": "e140cff9",
      "metadata": {},
      "outputs": [
        {
          "data": {
            "image/png": "[encoded data removed]",
            "text/plain": [
              "<Figure size 800x600 with 1 Axes>"
            ]
          },
          "metadata": {},
          "output_type": "display_data"
        }
      ],
      "source": [
        "plt.figure(figsize=(8, 6))\n",
        "sns.scatterplot(data=data, x='Por', y='Prod', s=100, color='skyblue')\n",
        "plt.title('Зависимость добычи от пористости', fontsize=16)\n",
        "plt.xlabel('Пористость (%)')\n",
        "plt.ylabel('Добыча газа (Prod)')\n",
        "plt.show()"
      ]
    },
    {
      "cell_type": "code",
      "execution_count": 75,
      "id": "0334939c",
      "metadata": {},
      "outputs": [
        {
          "data": {
            "image/png": "[encoded data removed]",
            "text/plain": [
              "<Figure size 800x600 with 1 Axes>"
            ]
          },
          "metadata": {},
          "output_type": "display_data"
        }
      ],
      "source": [
        "plt.figure(figsize=(8, 6))\n",
        "sns.scatterplot(data=data, x='Perm', y='Prod', s=100, color='skyblue')\n",
        "plt.title('Зависимость добычи от проницаемости скважины', fontsize=16)\n",
        "plt.xlabel('Проницаемость скважины')\n",
        "plt.ylabel('Добыча газа в сутки')\n",
        "plt.show()"
      ]
    },
    {
      "cell_type": "markdown",
      "id": "d11cb44f",
      "metadata": {
        "id": "d11cb44f"
      },
      "source": [
        "### Задание 5.1. (2 балла)\n",
        "\n",
        "Постройте корреляционную матрицу факторов, включив в неё целевой признак. \n",
        "\n",
        "Для наглядности визуализируйте полученную матрицу с помощью тепловой карты. \n",
        "\n",
        "**Примечание.** *Для визуализации вы можете использовать любую из знакомых вам библиотек.*\n",
        "\n",
        "На основе построенной корреляционной матрицы ответьте на следующий вопрос:\n",
        "\n",
        "* Какие факторы сильнее всего коррелируют с целевой переменной?\n",
        "\n",
        "Вычислите ранг и определитель полученной матрицы корреляций и приведите развёрнутые ответы на следующие вопросы:\n",
        "* Является ли корреляционная матрица плохо обусловенной (близок ли её опредитель к нулю)?\n",
        "* Что вы можете сказать о наличии коллинераности/мультиколлинеарности в данных? \n",
        "* Применима ли в данном случае модель классической линейной регрессии по методу наименьших квадратов и почему? "
      ]
    },
    {
      "cell_type": "markdown",
      "id": "57OjUl5e2oiL",
      "metadata": {
        "id": "57OjUl5e2oiL"
      },
      "source": [
        "**Критерии оценивания:**\n",
        "- Задание выполнено верно, учтены все условия (**2 балла**): \n",
        "    * приведён код для расчёта корреляционной матрицы;\n",
        "    * приведён код для визуализации корреляционной матрицы в виде тепловой карты;\n",
        "    * рассчитаны ранг и определитель корреляционной матрицы;\n",
        "    * предоставлены обоснованные ответы на все поставленные вопросы. \n",
        "\n",
        "- Задание выполнено верно, но не учтено одно условие (**1 балл**).\n",
        "- Задание выполнено неверно, не учтено несколько условий (**0 баллов**)."
      ]
    },
    {
      "cell_type": "code",
      "execution_count": 76,
      "id": "af00a5a0",
      "metadata": {
        "id": "af00a5a0"
      },
      "outputs": [
        {
          "data": {
            "image/png": "[encoded data removed]",
            "text/plain": [
              "<Figure size 900x600 with 2 Axes>"
            ]
          },
          "metadata": {},
          "output_type": "display_data"
        }
      ],
      "source": [
        "# Ваш код здесь\n",
        "plt.figure(figsize=(9, 6))\n",
        "sns.heatmap(df.corr(), annot = True, fmt='.2f', vmin=-0.9, vmax=0.9, center=0, cmap='coolwarm', square=True)\n",
        "plt.title('Матрица корреляций', fontsize=16)\n",
        "plt.show()"
      ]
    },
    {
      "cell_type": "code",
      "execution_count": 78,
      "id": "279a4779",
      "metadata": {},
      "outputs": [
        {
          "name": "stdout",
          "output_type": "stream",
          "text": [
            "Ранг матрицы корреляций:  8\n",
            "Определитель матрицы корреляций:  0.0007299\n"
          ]
        }
      ],
      "source": [
        "print('Ранг матрицы корреляций: ', np.linalg.matrix_rank(df.corr()))\n",
        "print('Определитель матрицы корреляций: ', round(np.linalg.det(df.corr()), 7))"
      ]
    },
    {
      "cell_type": "markdown",
      "id": "9a56013d",
      "metadata": {
        "id": "9a56013d"
      },
      "source": [
        "> *Ваши выводы здесь*\n",
        "\n",
        "Добыча газа в сутки больше всего кореллирует с такими показателями как POR (пористость скважины), Perm (проницаемость скважины) и TOC (общий органический углерод)\n",
        "Определитель корелляционной матрицы близок к нулю, а значит матрица плохо обусловлена. Скорее всего будут проблемы при вычислениях.\n",
        "Коллинеарность и мультиколлинеарность отсутствуют.\n",
        "Перед применением классической модели линейной регрессии необходимо провести дополнительную обработку данных.\n",
        "Идентификатор скважины не несет никакого смысла. Есть параметры со слабой корелляцией."
      ]
    },
    {
      "cell_type": "markdown",
      "id": "43fd91c4",
      "metadata": {
        "id": "43fd91c4"
      },
      "source": [
        "### Задание 5.2. (2 балла)\n",
        "\n",
        "Создайте матрицу наблюдений `X` и вектор правильных ответов `y`. В качестве факторов для матрицы наблюдений возьмите все имеющиеся в данных признаки. \n",
        "\n",
        "Постройте модель линейной регрессии по методу наименьших квадратов. Для этого воспользуйтесь матричной формулой МНК и инструментарием библиотеки numpy. \n",
        "\n",
        "Выведите на экран полученные оценки коэффициентов модели, округлённые до целого.\n",
        "\n",
        "Приведите подробные выводы по полученным результатам, ответив на следующие вопросы:\n",
        "* Есть ли в ваших данных признаки, которые, согласно модели, можно назвать неинформативными, то есть они не оказывают влияния на целевую переменную или оказывают шумовое влияние?\n",
        "* Приведите интерпретацию нескольких (двух или трёх) коэффициентов полученной модели линейной регрессии.\n"
      ]
    },
    {
      "cell_type": "markdown",
      "id": "QtNtTUzI4Cpq",
      "metadata": {
        "id": "QtNtTUzI4Cpq"
      },
      "source": [
        "**Критерии оценивания:**\n",
        "- Задание выполнено верно, учтены все условия (**2 балла**): \n",
        "    * приведён код для нахождения параметров модели линейной регрессии с помощью матричной формулы МНК;\n",
        "    * на основе полученных параметров даны верные ответы на поставленные вопросы;\n",
        "    * приведена корректная интерпретация нескольких коэффициентов полученной модели линейной регрессии.\n",
        "\n",
        "- Задание выполнено верно, но не учтено одно из условий (**1 балл**).\n",
        "- Задание выполнено неверно, не учтено несколько условий (**0 баллов**)."
      ]
    },
    {
      "cell_type": "code",
      "execution_count": 90,
      "id": "5724288c",
      "metadata": {
        "id": "5724288c"
      },
      "outputs": [
        {
          "name": "stdout",
          "output_type": "stream",
          "text": [
            "Оценки коэффициентов модели линейной регрессии, округленные до целого:\n",
            "[-1232.     0.   230.   116.  -365.    25.   -78.   785.]\n"
          ]
        }
      ],
      "source": [
        "# Ваш код здесь\n",
        "# Создаем матрицы наблюдений X и вектор правильных ответов y\n",
        "X = np.column_stack((np.ones(data.shape[0]), data[['Well', 'Por', 'Perm', 'AI', 'Brittle', 'TOC', 'VR']]))\n",
        "y = data['Prod'].values\n",
        "\n",
        "# По методу наименьших квадратов строим модель линейной регрессии\n",
        "w_hat = np.linalg.inv(X.T @ X) @ X.T @ y\n",
        "\n",
        "# Вывод результата (округлим до целого)\n",
        "print('Оценки коэффициентов модели линейной регрессии, округленные до целого:')\n",
        "print(np.round(w_hat, 0))"
      ]
    },
    {
      "cell_type": "markdown",
      "id": "bab9ee21",
      "metadata": {
        "id": "bab9ee21"
      },
      "source": [
        "*Ваши выводы здесь*\n",
        "Идентификатор скважины (Well) не оказывает никакого влияния на целевую переменную. От него можно избавиться, это никак не повлияет на модель.\n",
        "Все остальные признаки оказывают различное влияние на целевую переменную.\n",
        "При увеличении пористости скважины на 1% добыча вырастет на 230 млн кубически футов в сутки\n",
        "При увеличении проницаемость на 1% добыча вырастает на 116 млн кубических футов в сутки\n",
        "При увеличении коэффициента хрупкости на 1 % добыча снижается на 365 млн кубических футов в сутки\n",
        "При увеличении коэффициента отражения витринита на 1% добыча вырастает на 785млн кубических футов в сутки\n"
      ]
    },
    {
      "cell_type": "markdown",
      "id": "4a05a4ac",
      "metadata": {
        "id": "4a05a4ac"
      },
      "source": [
        "### Задание 5.3. (1 балл)\n",
        "\n",
        "Теперь потренируемся строить предсказание для наблюдений целевой переменной. \n",
        "\n",
        "**а)** Постройте прогноз выработки газа для скважины со следующими параметрами:\n",
        "\n",
        "```python\n",
        "{\n",
        "    'Well': 106.0,\n",
        "    'Por': 15.32,\n",
        "    'Perm': 3.71,\n",
        "    'AI': 3.29,\n",
        "    'Brittle': 55.99,\n",
        "    'TOC': 1.35,\n",
        "    'VR': 2.42\n",
        " }\n",
        "```\n",
        "\n",
        "Рассчитайте абсолютную ошибку построенного вами прогноза для предложенной скважины (в миллионах кубических футов в день), если известно, что на этой скважине производится `4748.315024` миллионов кубических футов газа в день. \n",
        "\n",
        "**б)** Постройте прогноз выработки газа для всех скважин из обучающего набора данных. Выберите метрику, по которой вы будете оценивать качество регрессионных моделей и сравнивать их между собой (можно использовать несколько метрик, но не более двух).\n",
        "\n",
        "Рассчитайте значение выбранной метрики для вашей модели. Приведите интерпретацию полученного результата. "
      ]
    },
    {
      "cell_type": "markdown",
      "id": "qUDcep5Q5GWU",
      "metadata": {
        "id": "qUDcep5Q5GWU"
      },
      "source": [
        "**Критерии оценивания:**\n",
        "- Задание выполнено верно, учтены все условия (**1 балл**): \n",
        "    * приведён код для построения прогноза выработки газа на указанной скважине и рассчитана абсолютная ошибка прогноза для этой скважины;\n",
        "    * выбрана корректная для поставленной задачи метрика (или метрики) оценки качества модели и приведён код для расчёта этой метрики на всём обучающем наборе данных;\n",
        "    * приведена корректная интерпретация полученного результата.\n",
        "\n",
        "- Задание выполнено верно, но не учтено одно из условий, или задание выполнено неверно (**0 баллов**)."
      ]
    },
    {
      "cell_type": "code",
      "execution_count": 104,
      "id": "1ef79f43",
      "metadata": {},
      "outputs": [
        {
          "name": "stdout",
          "output_type": "stream",
          "text": [
            "Прогнозируемая выработка для новой скважины: 4723.064054\n",
            "Абсолютная ошибка прогноза равна: 25.250970\n"
          ]
        }
      ],
      "source": [
        "# Ваш код здесь\n",
        "# а\n",
        "new_data = {\n",
        "    'Well': 106.0,\n",
        "    'Por': 15.32,\n",
        "    'Perm': 3.71,\n",
        "    'AI': 3.29,\n",
        "    'Brittle': 55.99,\n",
        "    'TOC': 1.35,\n",
        "    'VR': 2.42\n",
        "}\n",
        "new_data_array = np.array([1, *new_data.values()])  # Добавляем единицу для интерцепта\n",
        "\n",
        "# Прогноз выработки для новой скважины\n",
        "new_prod_predict = new_data_array @ w_hat\n",
        "\n",
        "# Реальная выработка для новой скважины\n",
        "new_prod_real = 4748.315024\n",
        "\n",
        "# Вывод прогноза и абсолютной ошибки\n",
        "print(f'Прогнозируемая выработка для новой скважины: {new_prod_predict:.6f}')\n",
        "print(f'Абсолютная ошибка прогноза равна: {abs(new_prod_real - new_prod_predict):.6f}')"
      ]
    },
    {
      "cell_type": "code",
      "execution_count": 108,
      "id": "ddfabba7",
      "metadata": {},
      "outputs": [
        {
          "name": "stdout",
          "output_type": "stream",
          "text": [
            "Среднее отклонение реальных данных от прогноза = 153.622971\n",
            "Среднее квадратическое отклонение реальных данных от прогноза = 39315.040140\n"
          ]
        }
      ],
      "source": [
        "# б\n",
        "\n",
        "# Прогноз выработки для всех скважин из обучающего набора данных\n",
        "prediction = X @ w_hat\n",
        "\n",
        "# Расчет метрик\n",
        "mae = np.abs(y - prediction).mean()\n",
        "mse = ((y - prediction) ** 2).mean()\n",
        "\n",
        "# Вывод результатов\n",
        "print(f'Среднее отклонение реальных данных от прогноза = {mae:.6f}')\n",
        "print(f'Среднее квадратическое отклонение реальных данных от прогноза = {mse:.6f}')"
      ]
    },
    {
      "cell_type": "markdown",
      "id": "c9bee4bc",
      "metadata": {
        "id": "c9bee4bc"
      },
      "source": [
        "> *Ваши выводы здесь*\n",
        "Для предложенной скважины прогноз получился с относительно небольшой ошибкой - 25\n",
        "Среднее отклонение (и среднеквадратичное отклонение) для всех данных получилось уже довольно большим, что свидетельствует о недостаточном качестве построенной модели"
      ]
    },
    {
      "cell_type": "markdown",
      "id": "0c25c3aa",
      "metadata": {
        "id": "0c25c3aa"
      },
      "source": [
        "### Задание 5.4. (1 балл)\n",
        "\n",
        "Настало время анализа построенной модели. Посмотрите на коэффициенты и сравните их знаки со значениями выборочных корреляций между целевым признаком и факторами, которые вы нашли ранее.\n",
        "\n",
        "Дайте развёрнутые ответы на следующие вопросы:\n",
        "\n",
        "* Есть ли в вашей модели фактор, при котором коэффициент в модели линейной регрессии противоречит соответствующему коэффициенту корреляции? Например, корреляция говорит, что зависимость между фактором и целевой переменной прямая, а модель говорит обратное. Если таких факторов несколько, укажите их все.\n",
        "* Как вы считаете, с чем связано полученное противоречие результатов?"
      ]
    },
    {
      "cell_type": "markdown",
      "id": "ngJ3UdYb6Ll6",
      "metadata": {
        "id": "ngJ3UdYb6Ll6"
      },
      "source": [
        "**Критерии оценивания:**\n",
        "\n",
        "- Задание выполнено верно, даны корректные развёрнутые ответы на все поставленные в задании вопросы (**1 балл**). \n",
        "\n",
        "- Задание выполнено неверно, даны некорректные ответы на один или несколько поставленных в задании вопросов (**0 баллов**)."
      ]
    },
    {
      "cell_type": "code",
      "execution_count": 116,
      "id": "v-zIxRPY9wK7",
      "metadata": {
        "id": "v-zIxRPY9wK7"
      },
      "outputs": [
        {
          "data": {
            "text/plain": [
              "Well       0.026817\n",
              "Por        0.861910\n",
              "Perm       0.727426\n",
              "AI        -0.390835\n",
              "Brittle    0.237155\n",
              "TOC        0.654445\n",
              "VR         0.323182\n",
              "Prod       1.000000\n",
              "Name: Prod, dtype: float64"
            ]
          },
          "metadata": {},
          "output_type": "display_data"
        },
        {
          "name": "stdout",
          "output_type": "stream",
          "text": [
            "[-1232.     0.   230.   116.  -365.    25.   -78.   785.]\n"
          ]
        }
      ],
      "source": [
        "# Ваш код здесь\n",
        "display(df.corr().loc['Prod'])\n",
        "\n",
        "print(np.round(w_hat, 0))"
      ]
    },
    {
      "cell_type": "markdown",
      "id": "qeowwIp99yBf",
      "metadata": {
        "id": "qeowwIp99yBf"
      },
      "source": [
        "> *Ваши выводы здесь*\n",
        "Отрицательный коэффициент при высокой корреляции наблюдается у фактора TOC (общий органический углерод). Вероятно это связано в ошибками в модели."
      ]
    },
    {
      "cell_type": "markdown",
      "id": "9cea9195",
      "metadata": {
        "id": "9cea9195"
      },
      "source": [
        "### Задание 5.5. (2 балла)\n",
        "\n",
        "* Исключите из данных сильно коррелированные между собой факторы. Под сильной корреляцией в данной задаче будем понимать значения выше `0.7`.\n",
        "\n",
        "Выбирая, какой из коррелированных факторов оставить, руководствуйтесь коэффициентом корреляции с целевой переменной: оставляйте тот фактор, который больше всего коррелирует с целевой переменной (объёмом добычи газа).\n",
        "\n",
        "* Также исключите из данных факторы, для которых корреляция с целевой переменной меньше `0.05`.\n",
        "\n",
        "Постройте модель линейной регрессии на обновлённых после удаления факторов данных по методу наименьших квадратов. Для этого используйте матричную формулу и библиотеку numpy. Выведите значение полученных коэффициентов, округлённых до целого.\n",
        "\n",
        "Сделайте прогноз для всего обучающего набора данных и рассчитайте выбранную вами ранее метрику (или метрики). \n",
        "\n",
        "Дайте подробные ответы на следующие вопросы:\n",
        "\n",
        "* Приведите интерпретацию нескольких полученных коэффициентов (двух или трёх). Сравните их значения с полученными ранее.\n",
        "* Приведите интерпретацию полученных значений метрик. Сравните их значения с полученными ранее. \n",
        "* Удалось ли вам побороть противоречие коэффициентов линейной регрессии и коэффициентов корреляции?"
      ]
    },
    {
      "cell_type": "markdown",
      "id": "vlUYVjJP6oXN",
      "metadata": {
        "id": "vlUYVjJP6oXN"
      },
      "source": [
        "**Критерии оценивания:**\n",
        "- Задание выполнено верно, учтены все условия (**2 балла**): \n",
        "    * отобраны верные факторы;\n",
        "    * на основе отобранных факторов построена модель линейной регрессии с помощью матричной формулы МНК и найдены параметры модели, соответствующие каждому из факторов;\n",
        "    * построен прогноз для всего обучающего набора данных и рассчитано значение метрики (метрика должна быть выбрана корректно);\n",
        "    * даны ответы на все поставленные в задании вопросы.\n",
        "\n",
        "- Задание выполнено верно, но не учтено одно из условий (**1 балл**).\n",
        "- Задание выполнено верно, не учтено несколько из условий (**0 баллов**)."
      ]
    },
    {
      "cell_type": "code",
      "execution_count": 119,
      "id": "5d5ZJ0lX_UHe",
      "metadata": {
        "id": "5d5ZJ0lX_UHe"
      },
      "outputs": [
        {
          "name": "stdout",
          "output_type": "stream",
          "text": [
            "[[-1889.]\n",
            " [  290.]\n",
            " [ -140.]\n",
            " [   29.]\n",
            " [   89.]\n",
            " [  407.]]\n"
          ]
        }
      ],
      "source": [
        "# Ваш код здесь\n",
        "cleaned_data = data.drop(['Perm', 'Well'], axis=1)\n",
        "\n",
        "x_clean = np.column_stack((np.ones(cleaned_data.shape[0]), cleaned_data[['Por', 'AI', 'Brittle', 'TOC', 'VR']]))\n",
        "y_clean = cleaned_data[['Prod']]\n",
        "\n",
        "w_hat_clean = np.linalg.inv(x_clean.T@x_clean)@x_clean.T@y_clean\n",
        "print(np.round(w_hat_clean.values, 0))"
      ]
    },
    {
      "cell_type": "markdown",
      "id": "KxbYvMDo_WLe",
      "metadata": {
        "id": "KxbYvMDo_WLe"
      },
      "source": [
        "> *Ваши выводы здесь*\n",
        "При увеличении пористости скважины на 1% добыча вырастает на 290 млн кубических футов в сутки. Ранее 230 - влияние фактора выросло.\n",
        "При увеличении акустического импеданса на 1 добыча снизится на 140 млн кубических футов в сутки. Ранее (-365) - влияние фактора снизилось.\n",
        "При увеличении общего органического углерода на 1% добыча вырастает на 89 млн кубических футов в сутки. Ранее (-78) - коэффициент стал положительным, что соответствует характеру связи в соответствии с матрицей корреляции."
      ]
    },
    {
      "cell_type": "markdown",
      "id": "7d50db12",
      "metadata": {
        "id": "7d50db12"
      },
      "source": [
        "### Задание 5.6. (1 балл)\n",
        "\n",
        "Наконец, давайте построим модель линейной регрессии из библиотеки `scikit-learn (sklearn)` и сравним результаты её работы с теми, что нам удалось получить вручную. \n",
        "\n",
        "Постройте модель линейной регрессии на обновлённых после удаления факторов данных по методу наименьших квадратов. Для этого воспользуйтесь классом `LinearRegression` из библиотеки `sklearn`. Выведите значения полученных коэффициентов, округлённые до целого.\n",
        "\n",
        "Сделайте прогноз для всего обучающего набора данных и рассчитайте значение выбранной вами метрики (или метрик).\n",
        "\n",
        "Сравните результаты библиотечной реализации с тем, что вы получили ранее. "
      ]
    },
    {
      "cell_type": "markdown",
      "id": "emu5D3w278JP",
      "metadata": {
        "id": "emu5D3w278JP"
      },
      "source": [
        "**Критерии оценивания:**\n",
        "\n",
        "- Задание выполнено верно, учтены все условия (**1 балл**): \n",
        "    * на основе отобранных факторов построена модель линейной регрессии из библиотеки sklearn и найдены параметры модели, соответствующие каждому из факторов;\n",
        "    * построен прогноз для всего обучающего набора данных и рассчитано значение метрики (метрика должна быть выбрана корректно);\n",
        "    * приведён вывод о соответствии результатов, полученных вручную и с помощью библиотеки.\n",
        "- Задание выполнено неверно, не учтено одно или несколько условий (**0 баллов**)."
      ]
    },
    {
      "cell_type": "code",
      "execution_count": 127,
      "id": "Gpdpfq59AKGu",
      "metadata": {
        "id": "Gpdpfq59AKGu"
      },
      "outputs": [
        {
          "name": "stdout",
          "output_type": "stream",
          "text": [
            "Коэффициенты по sklearn: [[-1889.   290.  -140.    29.    89.   407.]]\n",
            "Среднее отклонение по sklearn = 170.365417\n",
            "Среднее квадратическое отклонение по sklearn = 53393.679736\n"
          ]
        }
      ],
      "source": [
        "# Ваш код здесь\n",
        "from sklearn.linear_model import LinearRegression\n",
        "\n",
        "# модель линейной регрессии\n",
        "lr = LinearRegression(fit_intercept=False)\n",
        "# коэффициенты регрессии\n",
        "lr.fit(x_clean, y_clean)\n",
        "\n",
        "print('Коэффициенты по sklearn:', np.round(lr.coef_))\n",
        "\n",
        "# прогноз для всех данных\n",
        "new_prediction_lr = lr.predict(x_clean)\n",
        "# представим прогноз в виде датафрейма pandas\n",
        "df_prediction_lr = pd.DataFrame(new_prediction_lr)\n",
        "\n",
        "# метрики среднего абсолютного (mae) и среднего квадратического (mse) отклонений\n",
        "lr_mae = (np.abs(cleaned_data['Prod'] - df_prediction_lr[0])).sum() / cleaned_data.shape[0]\n",
        "lr_mse = ((cleaned_data['Prod'] - df_prediction_lr[0]) ** 2).sum() / cleaned_data.shape[0]\n",
        "\n",
        "print(f'Среднее отклонение по sklearn = {lr_mae:.6f}')\n",
        "print(f'Среднее квадратическое отклонение по sklearn = {lr_mse:.6f}')"
      ]
    },
    {
      "cell_type": "markdown",
      "id": "WT9cdHAbAMG7",
      "metadata": {
        "id": "WT9cdHAbAMG7"
      },
      "source": [
        "> *Ваши выводы здесь*\n",
        "Коэффициенты и метрики ошибок, вычесленные вручную и с помощью библиотеки sklearn, аналогичны. Значит мы не ошиблись в вычислениях."
      ]
    },
    {
      "cell_type": "markdown",
      "id": "5346338e",
      "metadata": {
        "id": "5346338e"
      },
      "source": [
        "## Практика: полиномиальная регрессия и регуляризация"
      ]
    },
    {
      "cell_type": "markdown",
      "id": "aad9e3a6",
      "metadata": {
        "id": "aad9e3a6"
      },
      "source": [
        "Мы продолжаем работать над задачей от владельца компании «Газ-Таз-Ваз-Нефть» Василия.\n",
        "\n",
        "Ранее мы построили модель линейной регрессии, которая прогнозирует выработку газа на скважине. Для этого мы с помощью матрицы корреляций и рассуждений отобрали некоррелированные, значимые для предсказания признаки. **Далее мы будем использовать именно их (см. задание 5.5).**\n",
        "\n",
        "Мы хотим улучшить результат — уменьшить ошибку прогноза. Для этого мы воспользуемся моделью полиномиальной регрессии третьей степени. Однако теперь мы знаем, что полиномиальным моделям очень легко переобучиться под исходную выборку. Так как данных у нас не так много (всего 200 скважин), то для контроля качества модели мы будем использовать кросс-валидацию. \n",
        "\n",
        "Приступим! Выполните задания 8.1–8.5:\n"
      ]
    },
    {
      "cell_type": "code",
      "execution_count": 129,
      "id": "18506d1b",
      "metadata": {
        "id": "18506d1b"
      },
      "outputs": [],
      "source": [
        "from sklearn.preprocessing import PolynomialFeatures, StandardScaler\n",
        "from sklearn.linear_model import LinearRegression, Lasso, Ridge, ElasticNet\n",
        "from sklearn.model_selection import GridSearchCV\n",
        "from sklearn.model_selection import cross_validate"
      ]
    },
    {
      "cell_type": "markdown",
      "id": "bfbfea8d",
      "metadata": {
        "id": "bfbfea8d"
      },
      "source": [
        "### Задание 8.1. (1 балл)\n",
        "\n",
        "Стандаризируйте признаки с помощью `StandartScaler` из библиотеки `sklearn`. \n",
        "\n",
        "Затем сгенерируйте полиномиальные признаки третьего порядка на факторах, которые вы выбрали для обучения моделей. Для этого воспользуйтесь генератором полиномов `PolynomialFeatures` из библиотеки `sklearn`. Параметр `include_bias` установите в значение `False`.\n",
        "\n",
        "Выведите на экран, сколько факторов у вас получилось после генерации полиномиальных признаков.\n",
        "\n",
        "**Важно:** стандартизацию необходимо произвести до генерации полиномиальных факторов!\n",
        "\n",
        "Обучите модель линейной регрессии из библиотеки `sklearn` (`LinearRegression`) на полученных полиномиальных факторах.\n",
        "\n",
        "Используя кросс-валидацию оцените среднее значение выбранной вами метрики (или метрик) на тренировочных и валидационных фолдах.\n",
        "\n",
        "Проинтерпретируйте полученные результаты."
      ]
    },
    {
      "cell_type": "markdown",
      "id": "Y8oAhQkr8gV-",
      "metadata": {
        "id": "Y8oAhQkr8gV-"
      },
      "source": [
        "**Критерии оценивания:**\n",
        "\n",
        "- Задание выполнено верно, учтены все условия (**1 балл**): \n",
        "    * на основе отобранных факторов сгенерированы полиномиальные признаки третьего порядка;\n",
        "    * построена модель полиномиальной регрессии (линейной регрессии на полиномиальных признаках);\n",
        "    * с помощью кросс-валидации оценено среднее значение выбранной студентом метрики (или метрик) на тренировочных и валидационных фолдах (метрика должна быть выбрана корректно).\n",
        "- Задание выполнено неверно, не учтено одно или несколько из условий (**0 баллов**)."
      ]
    },
    {
      "cell_type": "code",
      "execution_count": 130,
      "id": "-ln3bx8NFNRw",
      "metadata": {
        "id": "-ln3bx8NFNRw"
      },
      "outputs": [
        {
          "name": "stdout",
          "output_type": "stream",
          "text": [
            "Количество получившихся факторов = 55\n",
            "MAE на тренировочных фолдах: 61.91\n",
            "MAE на валидационных фолдах: 116.97\n",
            "MSE на тренировочных фолдах: 6809.78\n",
            "MSE на валидационных фолдах: 24965.78\n"
          ]
        }
      ],
      "source": [
        "# Ваш код здесь\n",
        "X = cleaned_data[['Por', 'AI', 'Brittle', 'TOC', 'VR']]\n",
        "y = cleaned_data['Prod']\n",
        "\n",
        "scaler = StandardScaler()\n",
        "# стандартизируем признаки\n",
        "X_scaled = scaler.fit_transform(X)\n",
        "\n",
        "poly = PolynomialFeatures(degree=3, include_bias=False)\n",
        "# добавляем полиномиальные признаки\n",
        "X_poly = poly.fit_transform(X_scaled)\n",
        "\n",
        "print(f'Количество получившихся факторов = {X_poly.shape[1]}')\n",
        "\n",
        "# создаем модель линейной регрессии с интерцептом\n",
        "lr_poly = LinearRegression(fit_intercept=True)\n",
        "# проводим кросс-валидацию по двум метрикам\n",
        "lr_poly_mae = cross_validate(lr_poly, X_poly, y, scoring='neg_mean_absolute_error', cv=5, return_train_score=True)\n",
        "lr_poly_mse = cross_validate(lr_poly, X_poly, y, scoring='neg_mean_squared_error', cv=5, return_train_score=True)\n",
        "\n",
        "print('MAE на тренировочных фолдах: {:.2f}'.format(-lr_poly_mae['train_score'].mean()))\n",
        "print('MAE на валидационных фолдах: {:.2f}'.format(-lr_poly_mae['test_score'].mean()))\n",
        "print('MSE на тренировочных фолдах: {:.2f}'.format(-lr_poly_mse['train_score'].mean()))\n",
        "print('MSE на валидационных фолдах: {:.2f}'.format(-lr_poly_mse['test_score'].mean()))"
      ]
    },
    {
      "cell_type": "markdown",
      "id": "9DkuuLLtFPPy",
      "metadata": {
        "id": "9DkuuLLtFPPy"
      },
      "source": [
        "> *Ваши выводы здесь*\n",
        "\n",
        "Качество модели заметно повысилось. Об этом говорит улучшение метрик MAE и MSE по сравнению с обычной линейной регрессией. Большое расхождение между тренировочными и валидационными фолдами гвоорит о переобучении модели, это связано с малым объемом исходного датасета"
      ]
    },
    {
      "cell_type": "markdown",
      "id": "63d06013",
      "metadata": {
        "id": "63d06013"
      },
      "source": [
        "### Задание 8.2. (2 балла)\n",
        "\n",
        "Теперь попробуем воспользоваться линейной регрессией с регуляризацией. Для начала возьмём $L_1$-регуляризацию.\n",
        "\n",
        "Обучите модель `Lasso` из библиотеки `sklearn` на полученных полиномиальных факторах, предварительно стандартизировав факторы. \n",
        "\n",
        "Коэффициент регуляризации (`alpha`) подберите самостоятельно с помощью любого известного вам метода подбора гиперпаметров.\n",
        "\n",
        "Используя кросс-валидацию, оцените среднее значение выбранной вами метрики (или метрик) на тренировочных и валидационных фолдах.\n",
        "\n",
        "Проинтерпретируйте полученные результаты."
      ]
    },
    {
      "cell_type": "markdown",
      "id": "z24YUfuA9rUq",
      "metadata": {
        "id": "z24YUfuA9rUq"
      },
      "source": [
        "**Критерии оценивания:**\n",
        "\n",
        "- Задание выполнено верно, учтены все условия (**2 балла**): \n",
        "    * правильно построена модель полиномиальной регрессии (линейной регрессии на полиномиальных признаках) с регуляризацией (Lasso), учтены условия необходимости масштабирования факторов для построения модели;\n",
        "    * приведён код для подбора параметра регуляризации (вручную или с помощью библиотечных инструментов);\n",
        "    * с помощью кросс-валидации оценено среднее значение выбранной студентом метрики (или метрик) на тренировочных и валидационных фолдах (метрика должна быть выбрана корректно).\n",
        "\n",
        "- Задание выполнено верно, но не учтено одно из условий (**1 балл**).\n",
        "- Задание выполнено неверно, не учтено несколько условий (**0 баллов**)."
      ]
    },
    {
      "cell_type": "code",
      "execution_count": 131,
      "id": "IJ5b5G8qFz-r",
      "metadata": {
        "id": "IJ5b5G8qFz-r"
      },
      "outputs": [
        {
          "name": "stdout",
          "output_type": "stream",
          "text": [
            "Лучшее значение alpha: 4\n",
            "MAE на тренировочных фолдах: 71.32\n",
            "MAE на валидационных фолдах: 88.98\n",
            "MSE на тренировочных фолдах: 9349.06\n",
            "MSE на валидационных фолдах: 14651.15\n"
          ]
        }
      ],
      "source": [
        "# Ваш код здесь\n",
        "# Создание словаря, содержащего потенциальные значения альфа\n",
        "alpha_values = {'alpha': [0.5, 1, 2, 3, 4, 5, 6, 7, 8, 9, 10, 20]}\n",
        "\n",
        "# Передача в GridSearchCV модели, потенциальных альфа-значений,\n",
        "# метрики качества\n",
        "lasso_gs = GridSearchCV(Lasso(fit_intercept=True, max_iter=10000),\n",
        "                     alpha_values,\n",
        "                     scoring=['neg_mean_absolute_error', 'neg_mean_squared_error'],\n",
        "                     refit='neg_mean_absolute_error',\n",
        "                     cv=5)\n",
        "\n",
        "# лучшие найденные гиперпараметры\n",
        "best_params_lasso = lasso_gs.fit(X_poly, y).best_params_\n",
        "alpha_lasso = best_params_lasso['alpha']\n",
        "\n",
        "print('Лучшее значение alpha:', alpha_lasso)\n",
        "\n",
        "# создаем модель\n",
        "lasso = Lasso(alpha=alpha_lasso, fit_intercept=True)\n",
        "\n",
        "# проводим кросс-валидацию по двум метрикам\n",
        "lasso_mae = cross_validate(lasso, X_poly, y, scoring='neg_mean_absolute_error', cv=5, return_train_score=True)\n",
        "lasso_mse = cross_validate(lasso, X_poly, y, scoring='neg_mean_squared_error', cv=5, return_train_score=True)\n",
        "\n",
        "print('MAE на тренировочных фолдах: {:.2f}'.format(-lasso_mae['train_score'].mean()))\n",
        "print('MAE на валидационных фолдах: {:.2f}'.format(-lasso_mae['test_score'].mean()))\n",
        "print('MSE на тренировочных фолдах: {:.2f}'.format(-lasso_mse['train_score'].mean()))\n",
        "print('MSE на валидационных фолдах: {:.2f}'.format(-lasso_mse['test_score'].mean()))"
      ]
    },
    {
      "cell_type": "markdown",
      "id": "Se0OGR8UF2Td",
      "metadata": {
        "id": "Se0OGR8UF2Td"
      },
      "source": [
        "> *Ваши выводы здесь*\n",
        "Качество модели повысилось за счет использования $L_1$-регуляризации\n",
        "\n",
        "По сравнению с полиномиальной регрессией снизилось значение метрик ошибок на валидационных фолдах. Снижение разницы между валидационными и тренировочными фолдами снизилась, что свидетельствует и снижении переобучения модели"
      ]
    },
    {
      "cell_type": "markdown",
      "id": "2975ae60",
      "metadata": {
        "id": "2975ae60"
      },
      "source": [
        "### Задание 8.3. (2 балла)\n",
        "\n",
        "Проделаем то же самое с $L_2$-регуляризацией.\n",
        "\n",
        "Обучите модель `Ridge` из библиотеки `sklearn` на полученных полиномиальных факторах, предварительно стандартизировав факторы. \n",
        "\n",
        "Коэффициент регуляризации (`alpha`) подберите самостоятельно с помощью любого известного вам метода подбора гиперпаметров.\n",
        "\n",
        "Используя кросс-валидацию оцените среднее значение выбранной вами метрики (или метрик) на тренировочных и валидационных фолдах.\n",
        "\n",
        "Проинтерпретируйте полученные результаты."
      ]
    },
    {
      "cell_type": "code",
      "execution_count": 132,
      "id": "UfPGyNsjGGS8",
      "metadata": {
        "id": "UfPGyNsjGGS8"
      },
      "outputs": [
        {
          "name": "stdout",
          "output_type": "stream",
          "text": [
            "Лучшее значение alpha: 1\n",
            "MAE на тренировочных фолдах: 65.19\n",
            "MAE на валидационных фолдах: 105.37\n",
            "MSE на тренировочных фолдах: 7648.93\n",
            "MSE на валидационных фолдах: 19414.05\n"
          ]
        }
      ],
      "source": [
        "# Ваш код здесь\n",
        "# Передаем в GridSearchCV модели след. значения:\n",
        "ridge_gs = GridSearchCV(Ridge(fit_intercept=True),\n",
        "                        alpha_values,\n",
        "                        scoring=['neg_mean_absolute_error', 'neg_mean_squared_error'],\n",
        "                        refit='neg_mean_absolute_error',\n",
        "                        cv=5)\n",
        "\n",
        "# лучшие найденные гиперпараметры\n",
        "best_params_ridge = ridge_gs.fit(X_poly, y).best_params_\n",
        "alpha_ridge = best_params_ridge['alpha']\n",
        "\n",
        "print('Лучшее значение alpha:', alpha_ridge)\n",
        "\n",
        "# создаем модель\n",
        "ridge = Ridge(alpha=alpha_ridge, fit_intercept=True)\n",
        "\n",
        "# проводим кросс-валидацию по двум метрикам\n",
        "ridge_mae = cross_validate(ridge, X_poly, y, scoring='neg_mean_absolute_error', cv=5, return_train_score=True)\n",
        "ridge_mse = cross_validate(ridge, X_poly, y, scoring='neg_mean_squared_error', cv=5, return_train_score=True)\n",
        "\n",
        "print('MAE на тренировочных фолдах: {:.2f}'.format(-ridge_mae['train_score'].mean()))\n",
        "print('MAE на валидационных фолдах: {:.2f}'.format(-ridge_mae['test_score'].mean()))\n",
        "print('MSE на тренировочных фолдах: {:.2f}'.format(-ridge_mse['train_score'].mean()))\n",
        "print('MSE на валидационных фолдах: {:.2f}'.format(-ridge_mse['test_score'].mean()))"
      ]
    },
    {
      "cell_type": "markdown",
      "id": "dQBd7ny_GIi1",
      "metadata": {
        "id": "dQBd7ny_GIi1"
      },
      "source": [
        "> *Ваши выводы здесь*\n",
        "\n",
        "По сравнению с $L_1$-регуляризацией качество снизилось. Судя по значению метрик $L_2$-регуляризация показывает лучший результат по сравнению с полиномиальной регрессией. "
      ]
    },
    {
      "cell_type": "markdown",
      "id": "86pXnWE7-5ch",
      "metadata": {
        "id": "86pXnWE7-5ch"
      },
      "source": [
        "**Критерии оценивания:**\n",
        "\n",
        "- Задание выполнено верно, учтены все условия (**2 балла**): \n",
        "    * правильно построена модель полиномиальной регрессии (линейной регрессии на полиномиальных признаках) с регуляризацией (Ridge), учтены условия необходимости масштабирования факторов для построения модели;\n",
        "    * приведён код для подбора параметра регуляризации (вручную или с помощью библиотечных инструментов);\n",
        "    * с помощью кросс-валидации оценено среднее значение выбранной студентом метрики (или метрик) на тренировочных и валидационных фолдах (метрика должна быть выбрана корректно).\n",
        "\n",
        "- Задание выполнено верно, но не учтено одно из условий (**1 балл**).\n",
        "- Задание выполнено неверно, не учтено несколько условий (**0 баллов**)."
      ]
    },
    {
      "cell_type": "markdown",
      "id": "7ad85b78",
      "metadata": {
        "id": "7ad85b78"
      },
      "source": [
        "### Задание 8.4. (2 балла)\n",
        "\n",
        "Наконец, настало время комбинировать $L_1$ и $L_2$ -регуляризации.\n",
        "\n",
        "Обучите модель `ElasticNet` из библиотеки `sklearn` на полученных полиномиальных факторах, предварительно стандартизировав факторы. \n",
        "\n",
        "Коэффициенты регуляризации (`alpha` и `l1-ratio`) подберите самостоятельно с помощью любого известного вам метода подбора гиперпаметров.\n",
        "\n",
        "Используя кросс-валидацию, оцените среднее значение метрики MAPE на тренировочных и валидационных фолдах.\n",
        "\n",
        "Проинтерпретируйте полученные результаты."
      ]
    },
    {
      "cell_type": "markdown",
      "id": "sy8ESceQ-__u",
      "metadata": {
        "id": "sy8ESceQ-__u"
      },
      "source": [
        "**Критерии оценивания:**\n",
        "\n",
        "- Задание выполнено верно, учтены все условия (**2 балла**): \n",
        "    * правильно построена модель полиномиальной регрессии (линейной регрессии на полиномиальных признаках) с регуляризацией (ElasticNet), учтены условия необходимости масштабирования факторов для построения модели;\n",
        "    * приведён код для подбора параметра регуляризации (вручную или с помощью библиотечных инструментов);\n",
        "    * с помощью кросс-валидации оценено среднее значение выбранной студентом метрики (или метрик) на тренировочных и валидационных фолдах (метрика должна быть выбрана корректно).\n",
        "\n",
        "- Задание выполнено верно, но не учтено одно из условий (**1 балл**).\n",
        "- Задание выполнено неверно, не учтено несколько условий (**0 баллов**)."
      ]
    },
    {
      "cell_type": "code",
      "execution_count": 133,
      "id": "-Yi3P20hQnLS",
      "metadata": {
        "id": "-Yi3P20hQnLS"
      },
      "outputs": [
        {
          "name": "stdout",
          "output_type": "stream",
          "text": [
            "Лучшее значение alpha: 0.1, l1_ratio: 0.9\n",
            "MAE на тренировочных фолдах: 68.26\n",
            "MAE на валидационных фолдах: 106.35\n",
            "MSE на тренировочных фолдах: 8351.25\n",
            "MSE на валидационных фолдах: 19604.80\n"
          ]
        }
      ],
      "source": [
        "# Ваш код здесь\n",
        "\n",
        "import warnings\n",
        "warnings.filterwarnings('ignore')\n",
        "\n",
        "grid_values = {\n",
        "    'alpha': [0.1, 1, 2, 3, 4, 5, 6, 7, 8, 9, 10, 20],\n",
        "    'l1_ratio': [0.1, 0.2, 0.3, 0.4, 0.5, 0.6, 0.7, 0.8, 0.9]\n",
        "}\n",
        "# Передача в GridSearchCV модели, потенциальных альфа-значений,\n",
        "# метрики качества\n",
        "en_gs = GridSearchCV(ElasticNet(fit_intercept=True, max_iter=10000),\n",
        "                        grid_values,\n",
        "                        scoring=['neg_mean_absolute_error', 'neg_mean_squared_error'],\n",
        "                        refit='neg_mean_absolute_error',\n",
        "                        cv=5)\n",
        "\n",
        "# лучшие найденные гиперпараметры\n",
        "best_params_en = en_gs.fit(X_poly, y).best_params_\n",
        "alpha_en = best_params_en['alpha']\n",
        "l1_ratio_en = best_params_en['l1_ratio']\n",
        "\n",
        "print(f'Лучшее значение alpha: {alpha_en}, l1_ratio: {l1_ratio_en}')\n",
        "\n",
        "# создаем модель\n",
        "en = ElasticNet(alpha=alpha_en, l1_ratio=l1_ratio_en, fit_intercept=True)\n",
        "\n",
        "# проводим кросс-валидацию по двум метрикам\n",
        "en_mae = cross_validate(en, X_poly, y, scoring='neg_mean_absolute_error', cv=5, return_train_score=True)\n",
        "en_mse = cross_validate(en, X_poly, y, scoring='neg_mean_squared_error', cv=5, return_train_score=True)\n",
        "\n",
        "print('MAE на тренировочных фолдах: {:.2f}'.format(-en_mae['train_score'].mean()))\n",
        "print('MAE на валидационных фолдах: {:.2f}'.format(-en_mae['test_score'].mean()))\n",
        "print('MSE на тренировочных фолдах: {:.2f}'.format(-en_mse['train_score'].mean()))\n",
        "print('MSE на валидационных фолдах: {:.2f}'.format(-en_mse['test_score'].mean()))"
      ]
    },
    {
      "cell_type": "markdown",
      "id": "er2lAiE9QpAb",
      "metadata": {
        "id": "er2lAiE9QpAb"
      },
      "source": [
        "> *Ваши выводы здесь*\n",
        "\n",
        "Результат на валидационных фолдах получился хуже, чем в предыдущих чистых вариантах L1 и L2\n",
        "Большой разброс значений между тренировочными и валидационными фолдами говорит о переобучении модели\n",
        "Модель стремится к $L_1$-регуляризации"
      ]
    },
    {
      "cell_type": "markdown",
      "id": "91c6e1d1",
      "metadata": {
        "id": "91c6e1d1"
      },
      "source": [
        "### Задание 8.5. (1 балл)\n",
        "\n",
        "Завершением вашей работы будет сводная таблица результатов, которую вы представите на презентации заказчику Василию.\n",
        "\n",
        "Составьте таблицу (DataFrame) со следующими столбцами (имена столбцов выберите самостоятельно):\n",
        "* Наименование модели.\n",
        "* Гиперпараметры (коэффициенты регуляризации, если таковые имеются), если нет — оставьте ячейку пустой.\n",
        "* Использовались ли полиномиальные признаки при построении модели (Да/Нет или True/False).\n",
        "* Значение выбранной метрики на тренировочных фолдах при кросс-валидации модели.\n",
        "* Значение выбранной метрики на валидационных фолдах при кросс-валидации модели.\n",
        "\n",
        "Сделайте финальный вывод по проделанной работе. Какая линейная модель из тех, что мы рассмотрели, показала наилучший результат с точки зрения качества на валидационных фолдах, а также с точки зрения переобученности?"
      ]
    },
    {
      "cell_type": "markdown",
      "id": "OsFRaKkF_nLq",
      "metadata": {
        "id": "OsFRaKkF_nLq"
      },
      "source": [
        "**Критерии оценивания:**\n",
        "\n",
        "- Задание выполнено верно, учтены все условия (**1 балл**): \n",
        "    * верно составлена сводная таблица итоговых результатов построенных ранее моделей с указанными в задании столбцами;\n",
        "    * приведены итоговые выводы по проделанной работе, указано, какая из рассмотренных моделей показала наилучший результат.\n",
        "\n",
        "- Задание выполнено неверно, не учтено одно или несколько условий (**0 баллов**)."
      ]
    },
    {
      "cell_type": "code",
      "execution_count": 134,
      "id": "wRiys8lKQuqW",
      "metadata": {
        "id": "wRiys8lKQuqW"
      },
      "outputs": [
        {
          "name": "stdout",
          "output_type": "stream",
          "text": [
            "MAE на тренировочных фолдах: 169.63\n",
            "MAE на валидационных фолдах: 179.87\n",
            "MSE на тренировочных фолдах: 52763.70\n",
            "MSE на валидационных фолдах: 59199.52\n"
          ]
        }
      ],
      "source": [
        "# Ваш код здесь\n",
        "# кросс-валидация модели линейной регрессии без полиномиальных признаков\n",
        "lr_mae = cross_validate(lr, x_clean, y_clean, scoring='neg_mean_absolute_error', cv=5, return_train_score=True)\n",
        "lr_mse = cross_validate(lr, x_clean, y_clean, scoring='neg_mean_squared_error', cv=5, return_train_score=True)\n",
        "\n",
        "print('MAE на тренировочных фолдах: {:.2f}'.format(-lr_mae['train_score'].mean()))\n",
        "print('MAE на валидационных фолдах: {:.2f}'.format(-lr_mae['test_score'].mean()))\n",
        "print('MSE на тренировочных фолдах: {:.2f}'.format(-lr_mse['train_score'].mean()))\n",
        "print('MSE на валидационных фолдах: {:.2f}'.format(-lr_mse['test_score'].mean()))"
      ]
    },
    {
      "cell_type": "code",
      "execution_count": 135,
      "id": "99404097",
      "metadata": {},
      "outputs": [
        {
          "data": {
            "text/html": [
              "<div>\n",
              "<style scoped>\n",
              "    .dataframe tbody tr th:only-of-type {\n",
              "        vertical-align: middle;\n",
              "    }\n",
              "\n",
              "    .dataframe tbody tr th {\n",
              "        vertical-align: top;\n",
              "    }\n",
              "\n",
              "    .dataframe thead th {\n",
              "        text-align: right;\n",
              "    }\n",
              "</style>\n",
              "<table border=\"1\" class=\"dataframe\">\n",
              "  <thead>\n",
              "    <tr style=\"text-align: right;\">\n",
              "      <th></th>\n",
              "      <th>Модель</th>\n",
              "      <th>Гиперпараметры</th>\n",
              "      <th>Полиномиальные признаки</th>\n",
              "      <th>MAE train</th>\n",
              "      <th>MAE test</th>\n",
              "      <th>MSE train</th>\n",
              "      <th>MSE test</th>\n",
              "      <th>MAE dev</th>\n",
              "      <th>MSE dev</th>\n",
              "    </tr>\n",
              "  </thead>\n",
              "  <tbody>\n",
              "    <tr>\n",
              "      <th>0</th>\n",
              "      <td>Lineal</td>\n",
              "      <td>NaN</td>\n",
              "      <td>False</td>\n",
              "      <td>169.631878</td>\n",
              "      <td>179.871065</td>\n",
              "      <td>52763.700219</td>\n",
              "      <td>59199.517278</td>\n",
              "      <td>10.239186</td>\n",
              "      <td>6435.817059</td>\n",
              "    </tr>\n",
              "    <tr>\n",
              "      <th>1</th>\n",
              "      <td>Polynomial</td>\n",
              "      <td>NaN</td>\n",
              "      <td>True</td>\n",
              "      <td>61.913339</td>\n",
              "      <td>116.969121</td>\n",
              "      <td>6809.782493</td>\n",
              "      <td>24965.782790</td>\n",
              "      <td>55.055782</td>\n",
              "      <td>18156.000297</td>\n",
              "    </tr>\n",
              "    <tr>\n",
              "      <th>2</th>\n",
              "      <td>Lasso</td>\n",
              "      <td>{'alpha': 4}</td>\n",
              "      <td>True</td>\n",
              "      <td>71.316109</td>\n",
              "      <td>88.976787</td>\n",
              "      <td>9349.064406</td>\n",
              "      <td>14651.152635</td>\n",
              "      <td>17.660678</td>\n",
              "      <td>5302.088229</td>\n",
              "    </tr>\n",
              "    <tr>\n",
              "      <th>3</th>\n",
              "      <td>Ridge</td>\n",
              "      <td>{'alpha': 1}</td>\n",
              "      <td>True</td>\n",
              "      <td>65.192889</td>\n",
              "      <td>105.371899</td>\n",
              "      <td>7648.930915</td>\n",
              "      <td>19414.045227</td>\n",
              "      <td>40.179010</td>\n",
              "      <td>11765.114312</td>\n",
              "    </tr>\n",
              "    <tr>\n",
              "      <th>4</th>\n",
              "      <td>ElasticNet</td>\n",
              "      <td>{'alpha': 0.1, 'l1_ratio': 0.9}</td>\n",
              "      <td>True</td>\n",
              "      <td>68.256934</td>\n",
              "      <td>106.351305</td>\n",
              "      <td>8351.250769</td>\n",
              "      <td>19604.796009</td>\n",
              "      <td>38.094370</td>\n",
              "      <td>11253.545239</td>\n",
              "    </tr>\n",
              "  </tbody>\n",
              "</table>\n",
              "</div>"
            ],
            "text/plain": [
              "       Модель                   Гиперпараметры  Полиномиальные признаки  \\\n",
              "0      Lineal                              NaN                    False   \n",
              "1  Polynomial                              NaN                     True   \n",
              "2       Lasso                     {'alpha': 4}                     True   \n",
              "3       Ridge                     {'alpha': 1}                     True   \n",
              "4  ElasticNet  {'alpha': 0.1, 'l1_ratio': 0.9}                     True   \n",
              "\n",
              "    MAE train    MAE test     MSE train      MSE test    MAE dev       MSE dev  \n",
              "0  169.631878  179.871065  52763.700219  59199.517278  10.239186   6435.817059  \n",
              "1   61.913339  116.969121   6809.782493  24965.782790  55.055782  18156.000297  \n",
              "2   71.316109   88.976787   9349.064406  14651.152635  17.660678   5302.088229  \n",
              "3   65.192889  105.371899   7648.930915  19414.045227  40.179010  11765.114312  \n",
              "4   68.256934  106.351305   8351.250769  19604.796009  38.094370  11253.545239  "
            ]
          },
          "execution_count": 135,
          "metadata": {},
          "output_type": "execute_result"
        }
      ],
      "source": [
        "# создадим справочник из данных по моделям\n",
        "dict = {\n",
        "    'Модель': ['Lineal', 'Polynomial', 'Lasso', 'Ridge', 'ElasticNet'],\n",
        "    'Гиперпараметры': [np.nan, np.nan, best_params_lasso, best_params_ridge, best_params_en],\n",
        "    'Полиномиальные признаки': [False, True, True, True, True],\n",
        "    'MAE train': [-lr_mae['train_score'].mean(),-lr_poly_mae['train_score'].mean(),-lasso_mae['train_score'].mean(),-ridge_mae['train_score'].mean(),-en_mae['train_score'].mean()],\n",
        "    'MAE test': [-lr_mae['test_score'].mean(),-lr_poly_mae['test_score'].mean(),-lasso_mae['test_score'].mean(),-ridge_mae['test_score'].mean(),-en_mae['test_score'].mean()],\n",
        "    'MSE train': [-lr_mse['train_score'].mean(),-lr_poly_mse['train_score'].mean(),-lasso_mse['train_score'].mean(),-ridge_mse['train_score'].mean(),-en_mse['train_score'].mean()],\n",
        "    'MSE test': [-lr_mse['test_score'].mean(),-lr_poly_mse['test_score'].mean(),-lasso_mse['test_score'].mean(),-ridge_mse['test_score'].mean(),-en_mse['test_score'].mean()],\n",
        "}\n",
        "\n",
        "# создаем датафрейм\n",
        "df = pd.DataFrame(dict)\n",
        "\n",
        "# для удобства анализа добавим столбцы с отклонением метрик между валидационными и тренировочными фолдами\n",
        "df['MAE dev'] = df['MAE test'] - df['MAE train']\n",
        "df['MSE dev'] = df['MSE test'] - df['MSE train']\n",
        "df"
      ]
    },
    {
      "cell_type": "markdown",
      "id": "UP7_LSoEQsrA",
      "metadata": {
        "id": "UP7_LSoEQsrA"
      },
      "source": [
        "> *Ваши выводы здесь*\n",
        "\n",
        "Наиболее качественной является модель с $L_1$ регуляризацией"
      ]
    }
  ],
  "metadata": {
    "colab": {
      "provenance": []
    },
    "kernelspec": {
      "display_name": "Python 3.10.8 ('base')",
      "language": "python",
      "name": "python3"
    },
    "language_info": {
      "codemirror_mode": {
        "name": "ipython",
        "version": 3
      },
      "file_extension": ".py",
      "mimetype": "text/x-python",
      "name": "python",
      "nbconvert_exporter": "python",
      "pygments_lexer": "ipython3",
      "version": "3.12.5"
    },
    "vscode": {
      "interpreter": {
        "hash": "86c56a74836ad344b00594bf6f38fa6a676a207ceefe20d101fbc465800ccb8d"
      }
    }
  },
  "nbformat": 4,
  "nbformat_minor": 5
}
