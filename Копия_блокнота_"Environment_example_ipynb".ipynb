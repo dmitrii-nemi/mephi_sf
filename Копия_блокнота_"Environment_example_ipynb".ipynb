{
  "nbformat": 4,
  "nbformat_minor": 0,
  "metadata": {
    "colab": {
      "provenance": []
    },
    "kernelspec": {
      "name": "python3",
      "display_name": "Python 3"
    },
    "language_info": {
      "name": "python"
    }
  },
  "cells": [
    {
      "cell_type": "code",
      "execution_count": 1,
      "metadata": {
        "id": "MXXTuy_o0sjk"
      },
      "outputs": [],
      "source": [
        "!pip install -q -U kaggle_environments"
      ]
    },
    {
      "cell_type": "code",
      "source": [
        "import numpy as np\n",
        "import pandas as pd\n",
        "import random\n",
        "\n",
        "import matplotlib.pyplot as plt\n",
        "import seaborn as sns\n",
        "\n",
        "from kaggle_environments import make, evaluate"
      ],
      "metadata": {
        "id": "yz23vWHD0wcj"
      },
      "execution_count": 3,
      "outputs": []
    },
    {
      "cell_type": "code",
      "source": [
        "import math\n",
        "\n",
        "\n",
        "def get_score(left_move, right_move):\n",
        "    # This method exists in this file so it can be consumed from rps.py and agents.py without a circular dependency\n",
        "    delta = (\n",
        "        right_move - left_move\n",
        "        if (left_move + right_move) % 2 == 0\n",
        "        else left_move - right_move\n",
        "    )\n",
        "    return 0 if delta == 0 else math.copysign(1, delta)"
      ],
      "metadata": {
        "id": "q25nKJuzC0y-"
      },
      "execution_count": 4,
      "outputs": []
    },
    {
      "cell_type": "markdown",
      "source": [
        "1. Опишем поведение агента, всегда играющего \"камень\" - это значение 0"
      ],
      "metadata": {
        "id": "0kuo6IOxiRub"
      }
    },
    {
      "cell_type": "code",
      "source": [
        "def rock_agent(observation, configuration):\n",
        "    return 0"
      ],
      "metadata": {
        "id": "bqTqV7B92rJ6"
      },
      "execution_count": 5,
      "outputs": []
    },
    {
      "cell_type": "markdown",
      "source": [
        "2. Попробуем теперь использовать информацию о прошлых действиях противника. Опишем агента, который производит то же самое действие, что и оппонент на прошлом ходу"
      ],
      "metadata": {
        "id": "et1J5hUGigeh"
      }
    },
    {
      "cell_type": "code",
      "source": [
        "def copy_opponent(observation, configuration):\n",
        "    #in case we have information about opponent last move\n",
        "    if observation.step > 0:\n",
        "        return observation.lastOpponentAction\n",
        "    #initial step\n",
        "    else:\n",
        "        return random.randrange(0, configuration.signs)"
      ],
      "metadata": {
        "id": "7l6Ttw6qi0jk"
      },
      "execution_count": 6,
      "outputs": []
    },
    {
      "cell_type": "markdown",
      "source": [
        "3. Ножницы"
      ],
      "metadata": {
        "id": "cLHEdWnCoUFH"
      }
    },
    {
      "cell_type": "code",
      "source": [
        "def scissors_agent(observation, configuration):\n",
        "    # 2 - scissors\n",
        "    return 2"
      ],
      "metadata": {
        "id": "VEuDDAJApr8l"
      },
      "execution_count": 7,
      "outputs": []
    },
    {
      "cell_type": "markdown",
      "source": [
        "4. Бумага"
      ],
      "metadata": {
        "id": "c3_-t83SoWbT"
      }
    },
    {
      "cell_type": "code",
      "source": [
        "def paper_agent(observation, configuration):\n",
        "    #1 - paper\n",
        "    return 1"
      ],
      "metadata": {
        "id": "FNfzw6a4pwFF"
      },
      "execution_count": 8,
      "outputs": []
    },
    {
      "cell_type": "markdown",
      "source": [
        "5. Ход, который нужен был для победы в прошлой игре"
      ],
      "metadata": {
        "id": "V5PHfwzQoWng"
      }
    },
    {
      "cell_type": "code",
      "source": [
        "last_react_action = None\n",
        "\n",
        "def reactionary_agent(observation, configuration):\n",
        "    global last_react_action\n",
        "    if observation.step == 0:\n",
        "        last_react_action = random.randrange(0, configuration.signs)\n",
        "    elif get_score(last_react_action, observation.lastOpponentAction) <= 1:\n",
        "        last_react_action = (observation.lastOpponentAction + 1) % configuration.signs\n",
        "\n",
        "    return last_react_action"
      ],
      "metadata": {
        "id": "yu28T7t4qYwY"
      },
      "execution_count": 9,
      "outputs": []
    },
    {
      "cell_type": "markdown",
      "source": [
        "6."
      ],
      "metadata": {
        "id": "cFvPGi1uoWqY"
      }
    },
    {
      "cell_type": "code",
      "source": [
        "def contr_react_agent(observation, configuration):\n",
        "    # инициализируем переменную, в которой будем хранить свой последний ход\n",
        "    last_step = -1\n",
        "    # если это первый ход\n",
        "    if last_step < 0:\n",
        "        # записываем в переменную последнего хода 0\n",
        "        last_step = 0\n",
        "    # иначе\n",
        "    else:\n",
        "        # записываем в переменную последнего хода значение на 2 больше,\n",
        "        # чем последний ход соперника\n",
        "        last_step = (last_step + 2) % configuration.signs\n",
        "    # возвращаем получившееся значение\n",
        "    return last_step"
      ],
      "metadata": {
        "id": "8i6Rq0bWE-gK"
      },
      "execution_count": 10,
      "outputs": []
    },
    {
      "cell_type": "markdown",
      "source": [
        "7. Циклический агент. Ходит по кругу 0-1-2-0-1-2"
      ],
      "metadata": {
        "id": "EDgdQGb5oWtX"
      }
    },
    {
      "cell_type": "code",
      "source": [
        "def mono_agent(observation, configuration):\n",
        "    # если это первый ход\n",
        "    if observation.step == 0:\n",
        "        # возвращаем рандомное значение из доступных вариантов\n",
        "        return random.randrange(0, configuration.signs)\n",
        "    # иначе берем остаток от деления номера текущего эпизода на\n",
        "    # количество возможных вариантов\n",
        "    return observation.step % configuration.signs"
      ],
      "metadata": {
        "id": "Z7y294CEHiqv"
      },
      "execution_count": 11,
      "outputs": []
    },
    {
      "cell_type": "markdown",
      "source": [
        "8. Статистичекий агент"
      ],
      "metadata": {
        "id": "YDhu2Z9uoWwj"
      }
    },
    {
      "cell_type": "code",
      "source": [
        "action_histogram = {}\n",
        "\n",
        "\n",
        "def statistical(observation, configuration):\n",
        "    global action_histogram\n",
        "    if observation.step == 0:\n",
        "        # сбрасываем статистику\n",
        "        action_histogram = {}\n",
        "        # возвращаем рандомное значение из доступных вариантов\n",
        "        return random.randrange(0, configuration.signs)\n",
        "    # сохраняем в переменную последний ход соперника\n",
        "    action = observation.lastOpponentAction\n",
        "    # если такого ключа еще нет в справочнике\n",
        "    if action not in action_histogram:\n",
        "        # добавляем в справочник со значением 0\n",
        "        action_histogram[action] = 0\n",
        "    # делаем инкремент счетчика для такого хода соперника\n",
        "    action_histogram[action] += 1\n",
        "\n",
        "    # определяем статистически самый частый ход соперника\n",
        "    # инициализируем переменную для хранения хода с максимальным счетчиком\n",
        "    mode_action = None\n",
        "    # инициализируем переменную для хранения максимального значения счетчика\n",
        "    mode_action_count = None\n",
        "    # для каждой пары ключ-значение в справочнике статистики\n",
        "    for k, v in action_histogram.items():\n",
        "        # если значение в справочнике для этого ключа не установлено\n",
        "        # или значение итератора больше значения в справочнике\n",
        "        if mode_action_count is None or v > mode_action_count:\n",
        "            # сохраняем текущий ключ в переменную максимума\n",
        "            mode_action = k\n",
        "            # сохраняем текущее значение в переменную максимума\n",
        "            mode_action_count = v\n",
        "            # переходим к следующей итерации\n",
        "            continue\n",
        "    # ходим так, чтобы победить самый частый ход соперника\n",
        "    return (mode_action + 1) % configuration.signs"
      ],
      "metadata": {
        "id": "53QSQguSH2Bw"
      },
      "execution_count": 12,
      "outputs": []
    },
    {
      "cell_type": "markdown",
      "source": [
        "9. Рандомный агент. Ходит всегда случайнр"
      ],
      "metadata": {
        "id": "-pH1L1NnoW0B"
      }
    },
    {
      "cell_type": "code",
      "source": [
        "def rand_agent(observation, configuration):\n",
        "    # возвращаем рандомное значение из доступных вариантов\n",
        "    return random.randrange(0, configuration.signs)"
      ],
      "metadata": {
        "id": "QFkkLFVAIwdk"
      },
      "execution_count": 13,
      "outputs": []
    },
    {
      "cell_type": "markdown",
      "source": [
        "10. Циклический агент со смещением в 1 шаг. 0-2-1-0-2-1"
      ],
      "metadata": {
        "id": "AsTJbZz7oW4B"
      }
    },
    {
      "cell_type": "code",
      "source": [
        "def mono_by_one_step(observation, configuration):\n",
        "    # инициализируем поле для хранения последнего хода\n",
        "    last_step = -1\n",
        "    # если это первый ход\n",
        "    if last_step < 0:\n",
        "        # возвращаем рандомное значение из доступных вариантов\n",
        "        last_step = random.randrange(0, configuration.signs)\n",
        "    # прибавляем 2 к своему последнему ходу\n",
        "    return (last_step + 2) % configuration.signs\n"
      ],
      "metadata": {
        "id": "16GTTwDAJCKk"
      },
      "execution_count": 14,
      "outputs": []
    },
    {
      "cell_type": "markdown",
      "source": [
        "11. Циклический агент, который ходит 2 раза подряд один шаг 0-0-1-1-2-2"
      ],
      "metadata": {
        "id": "k-vsK3cjN77W"
      }
    },
    {
      "cell_type": "code",
      "source": [
        "def mono_two_times_step(observation, configuration):\n",
        "    # инициализируем поле для хранения последнего хода\n",
        "    last_step = -1\n",
        "    # инициализируем поле для хранения  количества повторов\n",
        "    repeats = 0\n",
        "\n",
        "    if last_step < 0:\n",
        "        # возвращаем рандомное значение из доступных вариантов\n",
        "        last_step = random.randrange(0, configuration.signs)\n",
        "    # если повтора еще не было\n",
        "    if repeats == 0:\n",
        "        # инкрементируем количество повторов\n",
        "        repeats += 1\n",
        "    # если уже повторяли\n",
        "    else:\n",
        "        # сбрасываем счетчик повторов\n",
        "        repeats = 0\n",
        "        # инкрементируем значение последнего шага\n",
        "        last_step = (last_step + 1) % configuration.signs\n",
        "    # возвращаем значение поля, хранящего последний шаг\n",
        "    return last_step"
      ],
      "metadata": {
        "id": "W2SdkaiWOGLS"
      },
      "execution_count": 15,
      "outputs": []
    },
    {
      "cell_type": "code",
      "source": [
        "def part_agent(observation, configuration):\n",
        "    # инициализируем поле для хранения последнего хода\n",
        "    last_step = 0\n",
        "    # инициализируем поле для хранения  количества повторов\n",
        "    repeats = 0\n",
        "    # если количество повторов меньше 1/3 от запланированного количества эпизодов\n",
        "    if repeats < (configuration.get('episodeSteps') / 3):\n",
        "        # инкрементируем счетчик повторов\n",
        "        repeats += 1\n",
        "    # иначе переход к следующему значению\n",
        "    else:\n",
        "        # сбрасываем счетчик повторов\n",
        "        repeats = 0\n",
        "        # инкрементируем значение последнего шага\n",
        "        last_step = (last_step + 1) % configuration.signs\n",
        "    # возвращаем значение поля, хранящего последний шаг\n",
        "    return last_step"
      ],
      "metadata": {
        "id": "ubt3D-aBkb-A"
      },
      "execution_count": 16,
      "outputs": []
    },
    {
      "cell_type": "code",
      "source": [
        "'''\n",
        "agents = {\n",
        "    \"rock_agent\": rock_agent,\n",
        "    \"copy_opponent\": copy_opponent,\n",
        "    \"scissors_agent\": scissors_agent,\n",
        "    \"paper_agent\": paper_agent,\n",
        "    \"reactionary_agent\": reactionary_agent,\n",
        "    \"contr_react_agent\": contr_react_agent,\n",
        "    \"mono_agent\": mono_agent,\n",
        "    \"statistical\": statistical,\n",
        "    \"rand_agent\": rand_agent,\n",
        "    \"mono_by_one_step\": mono_by_one_step,\n",
        "    \"mono_two_times_step\": mono_two_times_step\n",
        "}\n",
        "'''"
      ],
      "metadata": {
        "id": "QrfbchVbO6fT"
      },
      "execution_count": 15,
      "outputs": []
    },
    {
      "cell_type": "code",
      "source": [
        "agents_list = ['rock_agent',\n",
        "               'copy_opponent',\n",
        "               'scissors_agent',\n",
        "               'paper_agent',\n",
        "               'reactionary_agent',\n",
        "               'contr_react_agent',\n",
        "               'mono_agent',\n",
        "               'statistical',\n",
        "               'rand_agent',\n",
        "               'mono_by_one_step',\n",
        "               'mono_two_times_step',\n",
        "               'part_agent']"
      ],
      "metadata": {
        "id": "zPtnDmUvWBjW"
      },
      "execution_count": 75,
      "outputs": []
    },
    {
      "cell_type": "code",
      "source": [
        "import random\n",
        "\n",
        "agents_list = [rock_agent, copy_opponent, scissors_agent, paper_agent, reactionary_agent, contr_react_agent, mono_agent, statistical, rand_agent, mono_by_one_step, mono_two_times_step, part_agent]\n",
        "\n",
        "\n",
        "def simulate_match(team1, team2):\n",
        "    \"\"\"Симулирует матч между двумя командами и возвращает победителя.\"\"\"\n",
        "\n",
        "    res = evaluate(\n",
        "        \"rps\", #environment to use - no need to change\n",
        "        [team1, team2], #agents to evaluate\n",
        "        configuration={\"episodeSteps\": 2000}, #number of episodes,\n",
        "    )\n",
        "\n",
        "    if res[0][0] > res[0][1]:\n",
        "        return team1\n",
        "    else:\n",
        "        return team2\n",
        "\n",
        "\n",
        "def conduct_tournament(agents_list):\n",
        "    \"\"\"Проводит турнир с выбыванием и возвращает победителя.\"\"\"\n",
        "\n",
        "\n",
        "    round_number = 1\n",
        "    while len(agents_list) > 1:\n",
        "        print(f\"Раунд {round_number}:\")\n",
        "        next_round_teams = []\n",
        "        # Если команд нечетное количество, одна из них проходит дальше автоматически\n",
        "        if len(agents_list) % 2 == 1:\n",
        "            bye_team = agents_list.pop()\n",
        "            next_round_teams.append(bye_team)\n",
        "            print(f\"Команда {bye_team} проходит в следующий раунд автоматически\")\n",
        "\n",
        "        random.shuffle(agents_list)\n",
        "        # Проводим матчи\n",
        "        for i in range(0, len(agents_list), 2):\n",
        "            team1 = agents_list[i]\n",
        "            team2 = agents_list[i + 1]\n",
        "            winner = simulate_match(team1, team2)\n",
        "            next_round_teams.append(winner)\n",
        "            print(f\"Матч: {team1} vs {team2}, Победитель: {winner}\")\n",
        "\n",
        "        agents_list = next_round_teams\n",
        "        round_number += 1\n",
        "        print()  # Пустая строка для разделения раундов\n",
        "\n",
        "    print(f\"Победитель турнира: {agents_list[0]}\")\n",
        "    return agents_list[0]\n",
        "\n",
        "# Пример использования\n",
        "\n",
        "winner = conduct_tournament(agents_list)"
      ],
      "metadata": {
        "colab": {
          "base_uri": "https://localhost:8080/"
        },
        "id": "9Y_Wt17nVtGX",
        "outputId": "13bb9416-410c-4c6d-ed5a-159f50639bbe"
      },
      "execution_count": 47,
      "outputs": [
        {
          "output_type": "stream",
          "name": "stdout",
          "text": [
            "Раунд 1:\n",
            "Матч: <function rock_agent at 0x7ce3787175b0> vs <function scissors_agent at 0x7ce378717880>, Победитель: <function rock_agent at 0x7ce3787175b0>\n",
            "Матч: <function mono_by_one_step at 0x7ce378717760> vs <function part_agent at 0x7ce378717d90>, Победитель: <function part_agent at 0x7ce378717d90>\n",
            "Матч: <function mono_agent at 0x7ce3787179a0> vs <function mono_two_times_step at 0x7ce378717be0>, Победитель: <function mono_two_times_step at 0x7ce378717be0>\n",
            "Матч: <function copy_opponent at 0x7ce4adabdb40> vs <function reactionary_agent at 0x7ce3787176d0>, Победитель: <function reactionary_agent at 0x7ce3787176d0>\n",
            "Матч: <function paper_agent at 0x7ce378717910> vs <function statistical at 0x7ce378717ac0>, Победитель: <function statistical at 0x7ce378717ac0>\n",
            "Матч: <function rand_agent at 0x7ce378717c70> vs <function contr_react_agent at 0x7ce3787177f0>, Победитель: <function contr_react_agent at 0x7ce3787177f0>\n",
            "\n",
            "Раунд 2:\n",
            "Матч: <function mono_two_times_step at 0x7ce378717be0> vs <function reactionary_agent at 0x7ce3787176d0>, Победитель: <function mono_two_times_step at 0x7ce378717be0>\n",
            "Матч: <function part_agent at 0x7ce378717d90> vs <function rock_agent at 0x7ce3787175b0>, Победитель: <function rock_agent at 0x7ce3787175b0>\n",
            "Матч: <function contr_react_agent at 0x7ce3787177f0> vs <function statistical at 0x7ce378717ac0>, Победитель: <function statistical at 0x7ce378717ac0>\n",
            "\n",
            "Раунд 3:\n",
            "Команда <function statistical at 0x7ce378717ac0> проходит в следующий раунд автоматически\n",
            "Матч: <function rock_agent at 0x7ce3787175b0> vs <function mono_two_times_step at 0x7ce378717be0>, Победитель: <function rock_agent at 0x7ce3787175b0>\n",
            "\n",
            "Раунд 4:\n",
            "Матч: <function rock_agent at 0x7ce3787175b0> vs <function statistical at 0x7ce378717ac0>, Победитель: <function statistical at 0x7ce378717ac0>\n",
            "\n",
            "Победитель турнира: <function statistical at 0x7ce378717ac0>\n"
          ]
        }
      ]
    },
    {
      "cell_type": "markdown",
      "source": [
        "Воспользуемся функцией evaluate из библиотеки kaggle_environments с помощью которой запустим наших агентов и проведем эксперимент на заданном количестве игр"
      ],
      "metadata": {
        "id": "ExgIpXUVjbjN"
      }
    },
    {
      "cell_type": "code",
      "source": [
        "evaluate(\n",
        "    \"rps\", #environment to use - no need to change\n",
        "    [mono_two_times_step, mono_by_one_step], #agents to evaluate\n",
        "    configuration={\"episodeSteps\": 10000} #number of episodes\n",
        ")"
      ],
      "metadata": {
        "id": "wv6Ip6M004xa",
        "colab": {
          "base_uri": "https://localhost:8080/"
        },
        "outputId": "9bad1f0b-0f68-49a7-9b05-c834c281574e"
      },
      "execution_count": null,
      "outputs": [
        {
          "output_type": "execute_result",
          "data": {
            "text/plain": [
              "[[100.0, -100.0]]"
            ]
          },
          "metadata": {},
          "execution_count": 57
        }
      ]
    },
    {
      "cell_type": "code",
      "source": [
        "evaluate(\n",
        "    \"rps\", #environment to use - no need to change\n",
        "    [copy_opponent, part_agent], #agents to evaluate\n",
        "    configuration={\"episodeSteps\": 2000} #number of episodes\n",
        ")"
      ],
      "metadata": {
        "id": "FC6_QWe9k3rr",
        "colab": {
          "base_uri": "https://localhost:8080/"
        },
        "outputId": "ebc88031-c6b6-4f59-988a-bc925670e30a"
      },
      "execution_count": 43,
      "outputs": [
        {
          "output_type": "execute_result",
          "data": {
            "text/plain": [
              "[[0, 0]]"
            ]
          },
          "metadata": {},
          "execution_count": 43
        }
      ]
    },
    {
      "cell_type": "code",
      "source": [
        "agents_list = ['rock_agent',\n",
        "               'copy_opponent',\n",
        "               'scissors_agent',\n",
        "               'paper_agent',\n",
        "               'reactionary_agent',\n",
        "               'contr_react_agent',\n",
        "               'mono_agent',\n",
        "               'statistical',\n",
        "               'rand_agent',\n",
        "               'mono_by_one_step',\n",
        "               'mono_two_times_step',\n",
        "               'part_agent']"
      ],
      "metadata": {
        "id": "P6XTMjg7pxgb"
      },
      "execution_count": null,
      "outputs": []
    }
  ]
}